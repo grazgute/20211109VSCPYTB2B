{
 "cells": [
  {
   "cell_type": "markdown",
   "metadata": {},
   "source": [
    "# Functions"
   ]
  },
  {
   "cell_type": "code",
   "execution_count": 3,
   "metadata": {},
   "outputs": [],
   "source": [
    "def hello():\n",
    "    print('this function says hello')\n",
    "    print('hello world')"
   ]
  },
  {
   "cell_type": "code",
   "execution_count": 4,
   "metadata": {},
   "outputs": [
    {
     "name": "stdout",
     "output_type": "stream",
     "text": [
      "this function says hello\n",
      "hello world\n",
      "this function says hello\n",
      "hello world\n",
      "this function says hello\n",
      "hello world\n",
      "this function says hello\n",
      "hello world\n",
      "this function says hello\n",
      "hello world\n"
     ]
    }
   ],
   "source": [
    "hello()\n",
    "hello()\n",
    "hello()\n",
    "hello()\n",
    "hello()"
   ]
  },
  {
   "cell_type": "code",
   "execution_count": 5,
   "metadata": {},
   "outputs": [],
   "source": [
    "def hello_2(name):\n",
    "    print(f'Hello {name}')\n"
   ]
  },
  {
   "cell_type": "code",
   "execution_count": 6,
   "metadata": {},
   "outputs": [
    {
     "name": "stdout",
     "output_type": "stream",
     "text": [
      "Hello Darius\n",
      "Hello Tomas\n",
      "Hello Darius\n"
     ]
    }
   ],
   "source": [
    "hello_2 ('Darius')\n",
    "hello_2 ('Tomas')\n",
    "hello_2 ('Darius')"
   ]
  },
  {
   "cell_type": "code",
   "execution_count": 7,
   "metadata": {},
   "outputs": [
    {
     "ename": "TypeError",
     "evalue": "hello_2() missing 1 required positional argument: 'name'",
     "output_type": "error",
     "traceback": [
      "\u001b[1;31m---------------------------------------------------------------------------\u001b[0m",
      "\u001b[1;31mTypeError\u001b[0m                                 Traceback (most recent call last)",
      "\u001b[1;32m~\\AppData\\Local\\Temp/ipykernel_1080/1036670838.py\u001b[0m in \u001b[0;36m<module>\u001b[1;34m\u001b[0m\n\u001b[1;32m----> 1\u001b[1;33m \u001b[0mhello_2\u001b[0m \u001b[1;33m(\u001b[0m\u001b[1;33m)\u001b[0m\u001b[1;33m\u001b[0m\u001b[1;33m\u001b[0m\u001b[0m\n\u001b[0m",
      "\u001b[1;31mTypeError\u001b[0m: hello_2() missing 1 required positional argument: 'name'"
     ]
    }
   ],
   "source": [
    "hello_2 ()"
   ]
  },
  {
   "cell_type": "code",
   "execution_count": 8,
   "metadata": {},
   "outputs": [],
   "source": [
    "def hello_3(name, city= 'Vilnius'):\n",
    "    print(f'Hello {name} from {city}')"
   ]
  },
  {
   "cell_type": "code",
   "execution_count": 12,
   "metadata": {},
   "outputs": [
    {
     "name": "stdout",
     "output_type": "stream",
     "text": [
      "Hello Darius from Vilnius\n",
      "Hello Tomas from Kaunas\n",
      "Hello Tomas from Kaunas\n",
      "Hello Tomas from Kaunas\n"
     ]
    }
   ],
   "source": [
    "hello_3('Darius')\n",
    "hello_3('Tomas','Kaunas')\n",
    "hello_3(name ='Tomas', city='Kaunas')\n",
    "hello_3(city='Kaunas', name ='Tomas')"
   ]
  },
  {
   "cell_type": "code",
   "execution_count": 13,
   "metadata": {},
   "outputs": [],
   "source": [
    "def hello_4(name, name_2, location='Vilnius', location_2='Palanga'):\n",
    "    print(f'Hello {name} from {location}, I am {name_2} from {location_2}')"
   ]
  },
  {
   "cell_type": "code",
   "execution_count": 14,
   "metadata": {},
   "outputs": [
    {
     "name": "stdout",
     "output_type": "stream",
     "text": [
      "Hello Tomas from Vilnius, I am Darius from Palanga\n"
     ]
    }
   ],
   "source": [
    "hello_4('Tomas','Darius')"
   ]
  },
  {
   "cell_type": "code",
   "execution_count": 19,
   "metadata": {},
   "outputs": [],
   "source": [
    "def add_2(x,y): # does not give anything\n",
    "    x+y\n",
    "    print(x + y)"
   ]
  },
  {
   "cell_type": "code",
   "execution_count": 20,
   "metadata": {},
   "outputs": [
    {
     "name": "stdout",
     "output_type": "stream",
     "text": [
      "9\n",
      "None\n"
     ]
    }
   ],
   "source": [
    "result = add_2(5,4)\n",
    "print(result)"
   ]
  },
  {
   "cell_type": "code",
   "execution_count": 23,
   "metadata": {},
   "outputs": [],
   "source": [
    "def add_2(x,y): # does not give anything\n",
    "    x+y\n",
    "    print(x + y)\n",
    "    return x + y\n",
    "    print('This will never be printed')"
   ]
  },
  {
   "cell_type": "code",
   "execution_count": 24,
   "metadata": {},
   "outputs": [
    {
     "name": "stdout",
     "output_type": "stream",
     "text": [
      "9\n",
      "9\n"
     ]
    }
   ],
   "source": [
    "result = add_2(5,4)\n",
    "print(result)"
   ]
  },
  {
   "cell_type": "markdown",
   "metadata": {},
   "source": [
    "# Tasks"
   ]
  },
  {
   "cell_type": "code",
   "execution_count": 31,
   "metadata": {},
   "outputs": [],
   "source": [
    "def my_function(x,y):\n",
    "    if (x + y) % 2 == 0:\n",
    "        return x * y\n",
    "    else:\n",
    "        return x / y\n",
    "\n"
   ]
  },
  {
   "cell_type": "code",
   "execution_count": 29,
   "metadata": {},
   "outputs": [
    {
     "name": "stdout",
     "output_type": "stream",
     "text": [
      "12\n",
      "2.0\n"
     ]
    }
   ],
   "source": [
    "print(my_function(2,6))\n",
    "print(my_function(10,5))"
   ]
  },
  {
   "cell_type": "code",
   "execution_count": 32,
   "metadata": {},
   "outputs": [],
   "source": [
    "def my_function_2(string_1):\n",
    "    print (string_1)"
   ]
  },
  {
   "cell_type": "code",
   "execution_count": 35,
   "metadata": {},
   "outputs": [
    {
     "name": "stdout",
     "output_type": "stream",
     "text": [
      "original function\n",
      "printing throug new function variable\n"
     ]
    }
   ],
   "source": [
    "my_function_2('original function')\n",
    "my_variable = my_function_2\n",
    "my_variable('printing throug new function variable')"
   ]
  },
  {
   "cell_type": "code",
   "execution_count": null,
   "metadata": {},
   "outputs": [],
   "source": []
  }
 ],
 "metadata": {
  "interpreter": {
   "hash": "b1c97f7bc89565293a07588d9fca0428c84db0528dfcd478043cefefc018889a"
  },
  "kernelspec": {
   "display_name": "Python 3.10.0 64-bit",
   "language": "python",
   "name": "python3"
  },
  "language_info": {
   "codemirror_mode": {
    "name": "ipython",
    "version": 3
   },
   "file_extension": ".py",
   "mimetype": "text/x-python",
   "name": "python",
   "nbconvert_exporter": "python",
   "pygments_lexer": "ipython3",
   "version": "3.10.0"
  },
  "orig_nbformat": 4
 },
 "nbformat": 4,
 "nbformat_minor": 2
}
