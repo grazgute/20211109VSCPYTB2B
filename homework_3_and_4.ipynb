{
 "cells": [
  {
   "cell_type": "markdown",
   "metadata": {},
   "source": [
    "# Homework on lists, tuple, for loop (homework 3)"
   ]
  },
  {
   "cell_type": "markdown",
   "metadata": {},
   "source": [
    "# 1. \n",
    "\n",
    "From the first 100 numbers, if the number is divisible by 2 without a residue, print ‘Fizz’, if the number is divisible by 3 without a residue, print ‘Buzz’, if the number is divisible by 2 and 3 without a residue, print ‘FizzBuzz’"
   ]
  },
  {
   "cell_type": "code",
   "execution_count": 99,
   "metadata": {},
   "outputs": [
    {
     "name": "stdout",
     "output_type": "stream",
     "text": [
      "Number 2 is Fizz\n",
      "Number {number} is Buzz\n",
      "Number 4 is Fizz\n",
      "FizzBuzz\n",
      "Number 8 is Fizz\n",
      "Number {number} is Buzz\n",
      "Number 10 is Fizz\n",
      "FizzBuzz\n",
      "Number 14 is Fizz\n",
      "Number {number} is Buzz\n",
      "Number 16 is Fizz\n",
      "FizzBuzz\n",
      "Number 20 is Fizz\n",
      "Number {number} is Buzz\n",
      "Number 22 is Fizz\n",
      "FizzBuzz\n",
      "Number 26 is Fizz\n",
      "Number {number} is Buzz\n",
      "Number 28 is Fizz\n",
      "FizzBuzz\n",
      "Number 32 is Fizz\n",
      "Number {number} is Buzz\n",
      "Number 34 is Fizz\n",
      "FizzBuzz\n",
      "Number 38 is Fizz\n",
      "Number {number} is Buzz\n",
      "Number 40 is Fizz\n",
      "FizzBuzz\n",
      "Number 44 is Fizz\n",
      "Number {number} is Buzz\n",
      "Number 46 is Fizz\n",
      "FizzBuzz\n",
      "Number 50 is Fizz\n",
      "Number {number} is Buzz\n",
      "Number 52 is Fizz\n",
      "FizzBuzz\n",
      "Number 56 is Fizz\n",
      "Number {number} is Buzz\n",
      "Number 58 is Fizz\n",
      "FizzBuzz\n",
      "Number 62 is Fizz\n",
      "Number {number} is Buzz\n",
      "Number 64 is Fizz\n",
      "FizzBuzz\n",
      "Number 68 is Fizz\n",
      "Number {number} is Buzz\n",
      "Number 70 is Fizz\n",
      "FizzBuzz\n",
      "Number 74 is Fizz\n",
      "Number {number} is Buzz\n",
      "Number 76 is Fizz\n",
      "FizzBuzz\n",
      "Number 80 is Fizz\n",
      "Number {number} is Buzz\n",
      "Number 82 is Fizz\n",
      "FizzBuzz\n",
      "Number 86 is Fizz\n",
      "Number {number} is Buzz\n",
      "Number 88 is Fizz\n",
      "FizzBuzz\n",
      "Number 92 is Fizz\n",
      "Number {number} is Buzz\n",
      "Number 94 is Fizz\n",
      "FizzBuzz\n",
      "Number 98 is Fizz\n",
      "Number {number} is Buzz\n",
      "Number 100 is Fizz\n"
     ]
    }
   ],
   "source": [
    "#1st solution\n",
    "for number in range(1,101):\n",
    "    if number % 2== 0 and number % 3 ==0:\n",
    "        print('FizzBuzz')\n",
    "    elif number % 2 == 0:\n",
    "        print(f\"Number {number} is Fizz\")\n",
    "    elif number % 3 == 0:\n",
    "        print(\"Number {number} is Buzz\")"
   ]
  },
  {
   "cell_type": "code",
   "execution_count": 100,
   "metadata": {},
   "outputs": [
    {
     "name": "stdout",
     "output_type": "stream",
     "text": [
      "Number 1 is: \n",
      "Number 2 is: Fizz\n",
      "Number 3 is: Buzz\n",
      "Number 4 is: Fizz\n",
      "Number 5 is: \n",
      "Number 6 is: FizzBuzz\n",
      "Number 7 is: \n",
      "Number 8 is: Fizz\n",
      "Number 9 is: Buzz\n",
      "Number 10 is: Fizz\n",
      "Number 11 is: \n",
      "Number 12 is: FizzBuzz\n",
      "Number 13 is: \n",
      "Number 14 is: Fizz\n",
      "Number 15 is: Buzz\n",
      "Number 16 is: Fizz\n",
      "Number 17 is: \n",
      "Number 18 is: FizzBuzz\n",
      "Number 19 is: \n",
      "Number 20 is: Fizz\n",
      "Number 21 is: Buzz\n",
      "Number 22 is: Fizz\n",
      "Number 23 is: \n",
      "Number 24 is: FizzBuzz\n",
      "Number 25 is: \n",
      "Number 26 is: Fizz\n",
      "Number 27 is: Buzz\n",
      "Number 28 is: Fizz\n",
      "Number 29 is: \n",
      "Number 30 is: FizzBuzz\n",
      "Number 31 is: \n",
      "Number 32 is: Fizz\n",
      "Number 33 is: Buzz\n",
      "Number 34 is: Fizz\n",
      "Number 35 is: \n",
      "Number 36 is: FizzBuzz\n",
      "Number 37 is: \n",
      "Number 38 is: Fizz\n",
      "Number 39 is: Buzz\n",
      "Number 40 is: Fizz\n",
      "Number 41 is: \n",
      "Number 42 is: FizzBuzz\n",
      "Number 43 is: \n",
      "Number 44 is: Fizz\n",
      "Number 45 is: Buzz\n",
      "Number 46 is: Fizz\n",
      "Number 47 is: \n",
      "Number 48 is: FizzBuzz\n",
      "Number 49 is: \n",
      "Number 50 is: Fizz\n",
      "Number 51 is: Buzz\n",
      "Number 52 is: Fizz\n",
      "Number 53 is: \n",
      "Number 54 is: FizzBuzz\n",
      "Number 55 is: \n",
      "Number 56 is: Fizz\n",
      "Number 57 is: Buzz\n",
      "Number 58 is: Fizz\n",
      "Number 59 is: \n",
      "Number 60 is: FizzBuzz\n",
      "Number 61 is: \n",
      "Number 62 is: Fizz\n",
      "Number 63 is: Buzz\n",
      "Number 64 is: Fizz\n",
      "Number 65 is: \n",
      "Number 66 is: FizzBuzz\n",
      "Number 67 is: \n",
      "Number 68 is: Fizz\n",
      "Number 69 is: Buzz\n",
      "Number 70 is: Fizz\n",
      "Number 71 is: \n",
      "Number 72 is: FizzBuzz\n",
      "Number 73 is: \n",
      "Number 74 is: Fizz\n",
      "Number 75 is: Buzz\n",
      "Number 76 is: Fizz\n",
      "Number 77 is: \n",
      "Number 78 is: FizzBuzz\n",
      "Number 79 is: \n",
      "Number 80 is: Fizz\n",
      "Number 81 is: Buzz\n",
      "Number 82 is: Fizz\n",
      "Number 83 is: \n",
      "Number 84 is: FizzBuzz\n",
      "Number 85 is: \n",
      "Number 86 is: Fizz\n",
      "Number 87 is: Buzz\n",
      "Number 88 is: Fizz\n",
      "Number 89 is: \n",
      "Number 90 is: FizzBuzz\n",
      "Number 91 is: \n",
      "Number 92 is: Fizz\n",
      "Number 93 is: Buzz\n",
      "Number 94 is: Fizz\n",
      "Number 95 is: \n",
      "Number 96 is: FizzBuzz\n",
      "Number 97 is: \n",
      "Number 98 is: Fizz\n",
      "Number 99 is: Buzz\n",
      "Number 100 is: Fizz\n"
     ]
    }
   ],
   "source": [
    "#2nd solution\n",
    "for number in range(1,101):\n",
    "    print_string = ''\n",
    "    if number % 2 == 0:\n",
    "        print_string += 'Fizz'\n",
    "    if number % 3 == 0:\n",
    "        print_string += 'Buzz'\n",
    "    print (f\"Number {number} is: {print_string}\")\n"
   ]
  },
  {
   "cell_type": "markdown",
   "metadata": {},
   "source": [
    "#  2. Let's choose a number (input()), if the number entered is greater than or equal to 10, print all numbers (from 1 to that number) that divide by 5 with the a remainder. Otherwise do nothing"
   ]
  },
  {
   "cell_type": "code",
   "execution_count": 101,
   "metadata": {},
   "outputs": [
    {
     "name": "stdout",
     "output_type": "stream",
     "text": [
      " This number has a reminder when divided by 5: 1\n",
      " This number has a reminder when divided by 5: 2\n",
      " This number has a reminder when divided by 5: 3\n",
      " This number has a reminder when divided by 5: 4\n",
      " This number has a reminder when divided by 5: 6\n",
      " This number has a reminder when divided by 5: 7\n",
      " This number has a reminder when divided by 5: 8\n",
      " This number has a reminder when divided by 5: 9\n"
     ]
    }
   ],
   "source": [
    "user_number = int (input('Please enter a digit'))\n",
    "if user_number >= 10:\n",
    "    for number in range (1, user_number + 1):\n",
    "        if number % 5 != 0:\n",
    "            print (f' This number has a reminder when divided by 5: {number}')\n",
    "else:\n",
    "    print ('number is lower than 10')"
   ]
  },
  {
   "cell_type": "markdown",
   "metadata": {},
   "source": [
    "## 3. What is the length of a list made up of combinations of lists provided if we want to find all possible values? Sort the list from highest to lowest.\n"
   ]
  },
  {
   "cell_type": "code",
   "execution_count": 109,
   "metadata": {},
   "outputs": [
    {
     "name": "stdout",
     "output_type": "stream",
     "text": [
      "\n",
      "[('1', 'what a beautiful day', 10), ('2', 'what a beautiful day', 10), ('3', 'what a beautiful day', 10), ('4', 'what a beautiful day', 10), ('5', 'what a beautiful day', 10), ('1', 'what a beautiful day', 40), ('2', 'what a beautiful day', 40), ('3', 'what a beautiful day', 40), ('4', 'what a beautiful day', 40), ('5', 'what a beautiful day', 40), ('1', 'what a beautiful day', 100), ('2', 'what a beautiful day', 100), ('3', 'what a beautiful day', 100), ('4', 'what a beautiful day', 100), ('5', 'what a beautiful day', 100), ('1', 'what a beautiful day', 200), ('2', 'what a beautiful day', 200), ('3', 'what a beautiful day', 200), ('4', 'what a beautiful day', 200), ('5', 'what a beautiful day', 200), ('1', '10 degrees outside', 10), ('2', '10 degrees outside', 10), ('3', '10 degrees outside', 10), ('4', '10 degrees outside', 10), ('5', '10 degrees outside', 10), ('1', '10 degrees outside', 40), ('2', '10 degrees outside', 40), ('3', '10 degrees outside', 40), ('4', '10 degrees outside', 40), ('5', '10 degrees outside', 40), ('1', '10 degrees outside', 100), ('2', '10 degrees outside', 100), ('3', '10 degrees outside', 100), ('4', '10 degrees outside', 100), ('5', '10 degrees outside', 100), ('1', '10 degrees outside', 200), ('2', '10 degrees outside', 200), ('3', '10 degrees outside', 200), ('4', '10 degrees outside', 200), ('5', '10 degrees outside', 200), ('1', 'evening', 10), ('1', 'weather', 10), ('2', 'evening', 10), ('2', 'weather', 10), ('3', 'evening', 10), ('3', 'weather', 10), ('4', 'evening', 10), ('4', 'weather', 10), ('5', 'evening', 10), ('5', 'weather', 10), ('1', 'evening', 40), ('1', 'weather', 40), ('2', 'evening', 40), ('2', 'weather', 40), ('3', 'evening', 40), ('3', 'weather', 40), ('4', 'evening', 40), ('4', 'weather', 40), ('5', 'evening', 40), ('5', 'weather', 40), ('1', 'evening', 100), ('1', 'weather', 100), ('2', 'evening', 100), ('2', 'weather', 100), ('3', 'evening', 100), ('3', 'weather', 100), ('4', 'evening', 100), ('4', 'weather', 100), ('5', 'evening', 100), ('5', 'weather', 100), ('1', 'evening', 200), ('1', 'weather', 200), ('2', 'evening', 200), ('2', 'weather', 200), ('3', 'evening', 200), ('3', 'weather', 200), ('4', 'evening', 200), ('4', 'weather', 200), ('5', 'evening', 200), ('5', 'weather', 200), ('1', 'hi', 10), ('2', 'hi', 10), ('3', 'hi', 10), ('4', 'hi', 10), ('5', 'hi', 10), ('1', 'hi', 40), ('2', 'hi', 40), ('3', 'hi', 40), ('4', 'hi', 40), ('5', 'hi', 40), ('1', 'hi', 100), ('2', 'hi', 100), ('3', 'hi', 100), ('4', 'hi', 100), ('5', 'hi', 100), ('1', 'hi', 200), ('2', 'hi', 200), ('3', 'hi', 200), ('4', 'hi', 200), ('5', 'hi', 200)]\n"
     ]
    }
   ],
   "source": [
    "a = ['1','2','3','4','5']\n",
    "b = ['hi', 'evening', 'what a beautiful day', 'weather', '10 degrees outside']\n",
    "c = ['100', '200', 40, 10]\n",
    "\n",
    "combinations = []\n",
    "for value_1 in a:\n",
    "    for value_2 in b:\n",
    "        for value_3 in c:\n",
    "            combinations.append( (value_1, value_2, int(value_3)) )\n",
    "#combinations.sort()\n",
    "\n",
    "combinations.sort( key = lambda x: x[2])\n",
    "combinations.sort( key = lambda x: len(x[1]), reverse=True )\n",
    "print ()\n",
    "print(combinations)"
   ]
  },
  {
   "cell_type": "markdown",
   "metadata": {},
   "source": [
    "# Homework for Dictionary, sets (homework 4)\n"
   ]
  },
  {
   "cell_type": "code",
   "execution_count": 47,
   "metadata": {},
   "outputs": [
    {
     "name": "stdout",
     "output_type": "stream",
     "text": [
      "1\n"
     ]
    }
   ],
   "source": [
    "# 1 a 1st solution\n",
    "words = ['phone', 'nest', 'quarter', 'dashing', 'breath', 'evanescent', 'destruction', 'hollow', 'horse', 'aviva']\n",
    "#print(type(words))\n",
    "#print(len(words))\n",
    "filtered_words = [words for words in words if len(words) > 10]\n",
    "print(len(filtered_words))\n"
   ]
  },
  {
   "cell_type": "code",
   "execution_count": 114,
   "metadata": {},
   "outputs": [
    {
     "name": "stdout",
     "output_type": "stream",
     "text": [
      "long words: ['destruction']\n",
      "polindromes: ['aviva']\n"
     ]
    }
   ],
   "source": [
    "# 1 a 2nd solution\n",
    "words = ['phone', 'nest', 'quarter', 'dashing', 'breath', 'evanescent', 'destruction', 'hollow', 'horse', 'aviva']\n",
    "long_words = []\n",
    "polindromes = []\n",
    "for word in words:\n",
    "    if len(word) > 10:\n",
    "        long_words.append(word)\n",
    "    if word.lower() == word.lower()[::-1]:\n",
    "        polindromes.append(word)\n",
    "\n",
    "print (f'long words: {long_words}')\n",
    "print (f'polindromes: {polindromes}')"
   ]
  },
  {
   "cell_type": "code",
   "execution_count": 116,
   "metadata": {},
   "outputs": [
    {
     "name": "stdout",
     "output_type": "stream",
     "text": [
      "The shortest word is: nest\n",
      "The longest word is: destruction\n",
      "['nest', 'phone', 'horse', 'aviva', 'breath', 'hollow', 'quarter', 'dashing', 'evanescent', 'destruction']\n",
      "shortest word: nest, longest word is: destruction\n"
     ]
    }
   ],
   "source": [
    "# 1 b\n",
    "shortest = min(words, key=len)\n",
    "print(f'The shortest word is:',shortest)\n",
    "longest = max(words, key=len)\n",
    "print(f'The longest word is:', longest)\n",
    "\n",
    "sorted_words = sorted(words, key = len)\n",
    "print(sorted_words)\n",
    "print (f'shortest word: {sorted_words[0]}, longest word is: {sorted_words[-1]}')\n"
   ]
  },
  {
   "cell_type": "code",
   "execution_count": 118,
   "metadata": {},
   "outputs": [
    {
     "ename": "AttributeError",
     "evalue": "'list' object has no attribute 'lower'",
     "output_type": "error",
     "traceback": [
      "\u001b[1;31m---------------------------------------------------------------------------\u001b[0m",
      "\u001b[1;31mAttributeError\u001b[0m                            Traceback (most recent call last)",
      "\u001b[1;32m~\\AppData\\Local\\Temp/ipykernel_8560/1905914675.py\u001b[0m in \u001b[0;36m<module>\u001b[1;34m\u001b[0m\n\u001b[1;32m----> 1\u001b[1;33m \u001b[0mreverse_words\u001b[0m \u001b[1;33m=\u001b[0m \u001b[0mwords\u001b[0m\u001b[1;33m.\u001b[0m\u001b[0mlower\u001b[0m\u001b[1;33m(\u001b[0m\u001b[1;33m)\u001b[0m\u001b[1;33m[\u001b[0m\u001b[1;33m:\u001b[0m\u001b[1;33m:\u001b[0m\u001b[1;33m-\u001b[0m\u001b[1;36m1\u001b[0m\u001b[1;33m]\u001b[0m\u001b[1;33m\u001b[0m\u001b[1;33m\u001b[0m\u001b[0m\n\u001b[0m\u001b[0;32m      2\u001b[0m \u001b[0mprint\u001b[0m \u001b[1;33m(\u001b[0m\u001b[0mreverse_words\u001b[0m\u001b[1;33m)\u001b[0m\u001b[1;33m\u001b[0m\u001b[1;33m\u001b[0m\u001b[0m\n",
      "\u001b[1;31mAttributeError\u001b[0m: 'list' object has no attribute 'lower'"
     ]
    }
   ],
   "source": [
    "reverse_words = words.lower()[::-1]\n",
    "print (reverse_words)"
   ]
  },
  {
   "cell_type": "code",
   "execution_count": 124,
   "metadata": {},
   "outputs": [
    {
     "name": "stdout",
     "output_type": "stream",
     "text": [
      "[3, 6, -2, -5, 7, 3]\n",
      "0\n",
      "1\n",
      "2\n",
      "3\n",
      "4\n",
      "largest product is 21\n"
     ]
    }
   ],
   "source": [
    "# 2 1st solution\n",
    "my_list = [3, 6, -2, -5, 7, 3]\n",
    "print(my_list)\n",
    "\n",
    "max_prod = None\n",
    "#max_prod = my_list[0] * my_list[1]\n",
    "\n",
    "for idx in range(len(my_list) - 1):\n",
    "    print(idx)\n",
    "    my_list[idx] * my_list [idx + 1]\n",
    "    if max_prod is None or my_list[idx] * my_list [idx + 1] > max_prod:\n",
    "        max_prod = my_list[idx] * my_list [idx + 1]\n",
    "\n",
    "print(f\"largest product is {max_prod}\")"
   ]
  },
  {
   "cell_type": "code",
   "execution_count": 130,
   "metadata": {},
   "outputs": [
    {
     "name": "stdout",
     "output_type": "stream",
     "text": [
      "left: 3, right: 6\n",
      "left: 6, right: -2\n",
      "left: -2, right: -5\n",
      "left: -5, right: 7\n",
      "left: 7, right: 3\n",
      "largest product is 21\n"
     ]
    }
   ],
   "source": [
    "# 2 2nd solution\n",
    "max_prod = None\n",
    "\n",
    "my_list = [3, 6, -2, -5, 7, 3]\n",
    "for number_1, number_r in zip( my_list[:-1], my_list[1:]):\n",
    "   print(f'left: {number_1}, right: {number_r}')\n",
    "   if max_prod is None or number_1 * number_r > max_prod:\n",
    "        max_prod = number_1 * number_r\n",
    "\n",
    "print(f\"largest product is {max_prod}\")"
   ]
  },
  {
   "cell_type": "code",
   "execution_count": 68,
   "metadata": {},
   "outputs": [
    {
     "name": "stdout",
     "output_type": "stream",
     "text": [
      "3\n",
      "8\n",
      "9\n",
      "15\n",
      "3\n",
      "8\n",
      "9\n",
      "15\n"
     ]
    }
   ],
   "source": [
    "# 3 my solution\n",
    "a = [1,2,3,4,5,6,7,8,9,15]\n",
    "b = [3,8,9,11,15]\n",
    "c = a + b\n",
    "for duplicates in c:\n",
    "    if c.count(duplicates) > 1:\n",
    "        print (duplicates)\n"
   ]
  },
  {
   "cell_type": "code",
   "execution_count": 131,
   "metadata": {},
   "outputs": [
    {
     "name": "stdout",
     "output_type": "stream",
     "text": [
      "duplicate vales are: {8, 9, 3, 15}\n"
     ]
    }
   ],
   "source": [
    "# 3 another solution\n",
    "a = [1,2,3,4,5,6,7,8,9,15]\n",
    "b = [3,8,9,11,15]\n",
    "\n",
    "set_a = set(a)\n",
    "set_b = set(b)\n",
    "print(f'duplicate vales are: {set_a.intersection(set_b)}')"
   ]
  },
  {
   "cell_type": "code",
   "execution_count": 132,
   "metadata": {},
   "outputs": [
    {
     "name": "stdout",
     "output_type": "stream",
     "text": [
      "{800, 1, 2, 900, 5, 8, 10, 12, 14}\n"
     ]
    }
   ],
   "source": [
    "#4 my solution\n",
    "list = [1, 5, 1, 2, 8, -9, 10, 1, -8, -900, 14, 5, -8, 2, 1, -20, 900, 800, -6, -8, 12, 1] \n",
    "positive_list = (x for x in list if x >= 0)\n",
    "print(set(positive_list))"
   ]
  },
  {
   "cell_type": "code",
   "execution_count": 135,
   "metadata": {},
   "outputs": [
    {
     "name": "stdout",
     "output_type": "stream",
     "text": [
      "positive number: [800, 1, 2, 900, 5, 8, 10, 12, 14]\n"
     ]
    }
   ],
   "source": [
    "#4 other solution\n",
    "x = [1, 5, 1, 2, 8, -9, 10, 1, -8, -900, 14, 5, -8, 2, 1, -20, 900, 800, -6, -8, 12, 1]\n",
    "set_x = set(x)\n",
    "positive_numbers = []\n",
    "for number in set_x:\n",
    "    if number > 0:\n",
    "        positive_numbers.append(number)\n",
    "print(f'positive number: {positive_numbers}')\n"
   ]
  },
  {
   "cell_type": "code",
   "execution_count": 98,
   "metadata": {},
   "outputs": [
    {
     "name": "stdout",
     "output_type": "stream",
     "text": [
      "14796.0\n"
     ]
    }
   ],
   "source": [
    "#5 my solution\n",
    "x = { \"cost_price\": 32.67, \n",
    "         'sell_price': 45.00,      \n",
    "          'inventory': 1200  }\n",
    "print(round((x['sell_price'] - x['cost_price']) * x['inventory'],2))\n"
   ]
  },
  {
   "cell_type": "code",
   "execution_count": null,
   "metadata": {},
   "outputs": [],
   "source": []
  }
 ],
 "metadata": {
  "interpreter": {
   "hash": "b1c97f7bc89565293a07588d9fca0428c84db0528dfcd478043cefefc018889a"
  },
  "kernelspec": {
   "display_name": "Python 3.10.0 64-bit",
   "language": "python",
   "name": "python3"
  },
  "language_info": {
   "codemirror_mode": {
    "name": "ipython",
    "version": 3
   },
   "file_extension": ".py",
   "mimetype": "text/x-python",
   "name": "python",
   "nbconvert_exporter": "python",
   "pygments_lexer": "ipython3",
   "version": "3.10.0"
  },
  "orig_nbformat": 4
 },
 "nbformat": 4,
 "nbformat_minor": 2
}
