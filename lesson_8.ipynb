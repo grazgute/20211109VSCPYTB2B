{
 "cells": [
  {
   "cell_type": "code",
   "execution_count": 1,
   "metadata": {},
   "outputs": [],
   "source": [
    "def my_function(*args):\n",
    "    for arg in args:\n",
    "        print (f'Argument is {arg}')"
   ]
  },
  {
   "cell_type": "code",
   "execution_count": 3,
   "metadata": {},
   "outputs": [
    {
     "name": "stdout",
     "output_type": "stream",
     "text": [
      "Argument is 11\n",
      "Argument is 416\n",
      "Argument is hello\n",
      "Argument is [1, 0.5]\n"
     ]
    }
   ],
   "source": [
    "my_function(11, 416,'hello',[1,.5])"
   ]
  },
  {
   "cell_type": "code",
   "execution_count": 4,
   "metadata": {},
   "outputs": [],
   "source": [
    "def my_function(add_number, *args):\n",
    "    for arg in args:\n",
    "        print (f'Argument + {add_number} is {add_number +arg}')"
   ]
  },
  {
   "cell_type": "code",
   "execution_count": 5,
   "metadata": {},
   "outputs": [
    {
     "name": "stdout",
     "output_type": "stream",
     "text": [
      "Argument + 14 is 114\n",
      "Argument + 14 is 64\n",
      "Argument + 14 is 70\n"
     ]
    }
   ],
   "source": [
    "my_function(14,100,50,56)"
   ]
  },
  {
   "cell_type": "code",
   "execution_count": 6,
   "metadata": {},
   "outputs": [],
   "source": [
    "def my_function_2(add_number, list_of_numbers):\n",
    "    for arg in list_of_numbers:\n",
    "        print (f'Argument + {add_number} is {add_number +arg}')"
   ]
  },
  {
   "cell_type": "code",
   "execution_count": 7,
   "metadata": {},
   "outputs": [
    {
     "name": "stdout",
     "output_type": "stream",
     "text": [
      "Argument + 14 is 114\n",
      "Argument + 14 is 64\n",
      "Argument + 14 is 70\n"
     ]
    }
   ],
   "source": [
    "my_function_2(14,[100,50,56])"
   ]
  },
  {
   "cell_type": "code",
   "execution_count": 11,
   "metadata": {},
   "outputs": [],
   "source": [
    "def my_function(add_number,  *args, text = 'hello'):\n",
    "    print(text)\n",
    "    for arg in args:\n",
    "        print (f'Argument + {add_number} is {add_number +arg}')"
   ]
  },
  {
   "cell_type": "code",
   "execution_count": 9,
   "metadata": {},
   "outputs": [
    {
     "name": "stdout",
     "output_type": "stream",
     "text": [
      "Argument + 14 is 114\n",
      "Argument + 14 is 64\n",
      "Argument + 14 is 70\n"
     ]
    }
   ],
   "source": [
    "my_function(14,100,50,56)"
   ]
  },
  {
   "cell_type": "code",
   "execution_count": 17,
   "metadata": {},
   "outputs": [],
   "source": [
    "def my_kwargs(text,**kwargs):\n",
    "    print(text)\n",
    "    for k,v in kwargs.items():\n",
    "        print (f'key is {k} with a value of {v}')"
   ]
  },
  {
   "cell_type": "code",
   "execution_count": 20,
   "metadata": {},
   "outputs": [
    {
     "name": "stdout",
     "output_type": "stream",
     "text": [
      "hello\n",
      "key is radius with a value of 10\n",
      "key is names with a value of ['Tomas', 'Darius']\n"
     ]
    }
   ],
   "source": [
    "my_kwargs(text='hello',radius = 10, names = ['Tomas','Darius'])"
   ]
  },
  {
   "cell_type": "markdown",
   "metadata": {},
   "source": [
    "## How many number are divisable by 1 to 10 inclusive?"
   ]
  },
  {
   "cell_type": "code",
   "execution_count": null,
   "metadata": {},
   "outputs": [],
   "source": [
    "Examples:\n",
    "my_function(1,2,65,30)\n",
    "result:\n",
    "my_dict = {1: 4, 2: 2, 3: 1, 4: 0, 5: 2, 6: 1, 7: 0, 8: 0, 9: 0, 10: 1}\n"
   ]
  },
  {
   "cell_type": "code",
   "execution_count": 49,
   "metadata": {},
   "outputs": [
    {
     "data": {
      "text/plain": [
       "{1: 4, 2: 2, 3: 1, 4: 0, 5: 2, 6: 1, 7: 0, 8: 0, 9: 0, 10: 1}"
      ]
     },
     "execution_count": 49,
     "metadata": {},
     "output_type": "execute_result"
    }
   ],
   "source": [
    "from collections import defaultdict\n",
    "\n",
    "def divide(*args):\n",
    "    #1st option\n",
    "    #result_dictionary = {1: 0, 2: 0, 3: 0, 4: 0, 5: 0, 6: 0, 7: 0, 8: 0, 9: 0, 10: 0}\n",
    "    #2 nd option\n",
    "    result_dictionary = {key:0 for key in range(1,11)}\n",
    "    #print(result_dictionary)\n",
    "    #print(result_dictionary)\n",
    "    # 3rd option\n",
    "    #result_dictionary = defaultdict(int)\n",
    "    #result_dictionary[0]\n",
    "    for number in args:\n",
    "        for key_number in result_dictionary.keys():\n",
    "            if number % key_number == 0:\n",
    "                result_dictionary[key_number] += 1\n",
    "\n",
    "    return result_dictionary\n"
   ]
  },
  {
   "cell_type": "code",
   "execution_count": 48,
   "metadata": {},
   "outputs": [
    {
     "data": {
      "text/plain": [
       "{1: 4, 2: 2, 3: 1, 4: 0, 5: 2, 6: 1, 7: 0, 8: 0, 9: 0, 10: 1}"
      ]
     },
     "execution_count": 48,
     "metadata": {},
     "output_type": "execute_result"
    }
   ],
   "source": [
    "divide(1,2,65,30)"
   ]
  },
  {
   "cell_type": "markdown",
   "metadata": {},
   "source": [
    "#Loops while"
   ]
  },
  {
   "cell_type": "code",
   "execution_count": 50,
   "metadata": {},
   "outputs": [
    {
     "name": "stdout",
     "output_type": "stream",
     "text": [
      "0 while loop\n",
      "1 while loop\n",
      "2 while loop\n",
      "3 while loop\n",
      "4 while loop\n",
      "end of while loop\n"
     ]
    }
   ],
   "source": [
    "x=0\n",
    "while x < 5:\n",
    "    print(f'{x} while loop')\n",
    "    x += 1\n",
    "print ('end of while loop')"
   ]
  },
  {
   "cell_type": "code",
   "execution_count": 51,
   "metadata": {},
   "outputs": [
    {
     "name": "stdout",
     "output_type": "stream",
     "text": [
      "hi\n",
      "input is not a number, try again\n",
      "input is not a number, try again\n",
      "you entered a number 5\n",
      "input is not a number, try again\n",
      "input is not a number, try again\n",
      "input is not a number, try again\n"
     ]
    }
   ],
   "source": [
    "print ('hi')\n",
    "while True:\n",
    "    user_input = input('enter a number')\n",
    "    if user_input.isdecimal():\n",
    "        print(f'you entered a number {user_input}')\n",
    "        break\n",
    "    print('input is not a number, try again')"
   ]
  },
  {
   "cell_type": "code",
   "execution_count": 14,
   "metadata": {},
   "outputs": [],
   "source": [
    "def string_analyzer(string_1: str):\n",
    "    letters = 0\n",
    "    numbers = 0\n",
    "    specials = 0\n",
    "    spaces = 0\n",
    "\n",
    "    for character in string_1:\n",
    "        if character.isalpha():\n",
    "            letters += 1\n",
    "        elif character.isdigit():\n",
    "            numbers += 1\n",
    "        elif character.isspace():\n",
    "            spaces += 1\n",
    "        else:\n",
    "            specials +=1\n",
    "    return f'There are {len(string_1)} symbols, {numbers} numbers, {letters} characters, {spaces} spaces, {specials} special characters'\n",
    "\n"
   ]
  },
  {
   "cell_type": "code",
   "execution_count": 15,
   "metadata": {},
   "outputs": [
    {
     "name": "stdout",
     "output_type": "stream",
     "text": [
      "There are 8 symbols, 1 numbers, 3 characters, 2 spaces, 2 special characters\n",
      "There are 13 symbols, 4 numbers, 3 characters, 3 spaces, 3 special characters\n"
     ]
    }
   ],
   "source": [
    "print(string_analyzer('one 2 ??'))\n",
    "print(string_analyzer('one 2 ?? 3.14'))"
   ]
  },
  {
   "cell_type": "code",
   "execution_count": 8,
   "metadata": {},
   "outputs": [],
   "source": [
    "def string_analyzer(string_1: str):\n",
    "    letters = 0\n",
    "    numbers = 0\n",
    "    specials = 0\n",
    "    spaces = 0\n",
    "\n",
    "    for character in string_1:\n",
    "        if character.isalpha():\n",
    "            letters += 1\n",
    "        elif character.isdigit():\n",
    "            numbers += 1\n",
    "        elif character.isspace():\n",
    "            spaces += 1\n",
    "        else:\n",
    "            specials += 1\n",
    "    return f'There are {len(string_1)} symbols, {numbers} numbers, {letters} letters, {spaces} spaces, {specials} specials'\n"
   ]
  },
  {
   "cell_type": "code",
   "execution_count": 9,
   "metadata": {},
   "outputs": [
    {
     "name": "stdout",
     "output_type": "stream",
     "text": [
      "There are 8 symbols, 1 numbers, 3 letters, 2 spaces, 2 specials\n",
      "There are 13 symbols, 4 numbers, 3 letters, 3 spaces, 3 specials\n"
     ]
    }
   ],
   "source": [
    "print(string_analyzer('one 2 ??'))\n",
    "print(string_analyzer('one 2 ?? 3.14'))"
   ]
  },
  {
   "cell_type": "code",
   "execution_count": 21,
   "metadata": {},
   "outputs": [
    {
     "name": "stdout",
     "output_type": "stream",
     "text": [
      "10\n",
      "global\n"
     ]
    }
   ],
   "source": [
    "global_variable = 'global'\n",
    "\n",
    "def simple_function():\n",
    "    local_variable = 10\n",
    "    print (local_variable)\n",
    "    print(global_variable)\n",
    "\n",
    "simple_function()\n",
    "#print(local_variable)# error, can't access local function variable"
   ]
  },
  {
   "cell_type": "code",
   "execution_count": 22,
   "metadata": {},
   "outputs": [
    {
     "name": "stdout",
     "output_type": "stream",
     "text": [
      "10\n",
      "2567086615984\n",
      "world\n",
      "after function global_variable is global\n"
     ]
    }
   ],
   "source": [
    "global_variable = 'global'\n",
    "\n",
    "def simple_function():\n",
    "    local_variable = 10\n",
    "    print( local_variable)\n",
    "    # global global_variable # takes global variable \n",
    "    global_variable = \"world\" # creates local variable instead of overwritting global\n",
    "    print (id(global_variable))\n",
    "    print(global_variable)\n",
    "\n",
    "simple_function()\n",
    "print (f'after function global_variable is {global_variable}')\n",
    "# print (local_variable) # error, can't access local function variable\n"
   ]
  },
  {
   "cell_type": "code",
   "execution_count": 33,
   "metadata": {},
   "outputs": [],
   "source": [
    "def my_function_3(list_1: list):\n",
    "    min_value = list_1[0]\n",
    "    max_value = list_1[0]\n",
    "    for number in list_1[1:]:\n",
    "        if number < min_value:\n",
    "            min_value = number\n",
    "        elif number > max_value:\n",
    "            max_value = number\n",
    "        print(f'min: {min_value}, max: {max_value}')\n",
    "\n",
    "    return max_value - min_value"
   ]
  },
  {
   "cell_type": "code",
   "execution_count": 34,
   "metadata": {},
   "outputs": [
    {
     "name": "stdout",
     "output_type": "stream",
     "text": [
      "min: 1, max: 5\n",
      "min: 1, max: 6\n",
      "min: 1, max: 10\n",
      "min: 1, max: 10\n",
      "min: -5, max: 10\n"
     ]
    },
    {
     "data": {
      "text/plain": [
       "15"
      ]
     },
     "execution_count": 34,
     "metadata": {},
     "output_type": "execute_result"
    }
   ],
   "source": [
    "my_function_3([1,5,6,10,4,-5])"
   ]
  },
  {
   "cell_type": "code",
   "execution_count": 35,
   "metadata": {},
   "outputs": [],
   "source": [
    "def my_function_3(list_1: list):\n",
    "    min_value = min(list_1)\n",
    "    max_value = max(list_1)\n",
    "    return max_value - min_value"
   ]
  },
  {
   "cell_type": "code",
   "execution_count": 36,
   "metadata": {},
   "outputs": [
    {
     "data": {
      "text/plain": [
       "15"
      ]
     },
     "execution_count": 36,
     "metadata": {},
     "output_type": "execute_result"
    }
   ],
   "source": [
    "my_function_3([1,5,6,10,4,-5])"
   ]
  },
  {
   "cell_type": "code",
   "execution_count": null,
   "metadata": {},
   "outputs": [],
   "source": []
  }
 ],
 "metadata": {
  "interpreter": {
   "hash": "b1c97f7bc89565293a07588d9fca0428c84db0528dfcd478043cefefc018889a"
  },
  "kernelspec": {
   "display_name": "Python 3.10.0 64-bit",
   "language": "python",
   "name": "python3"
  },
  "language_info": {
   "codemirror_mode": {
    "name": "ipython",
    "version": 3
   },
   "file_extension": ".py",
   "mimetype": "text/x-python",
   "name": "python",
   "nbconvert_exporter": "python",
   "pygments_lexer": "ipython3",
   "version": "3.10.0"
  },
  "orig_nbformat": 4
 },
 "nbformat": 4,
 "nbformat_minor": 2
}
