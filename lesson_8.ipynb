{
 "cells": [
  {
   "cell_type": "code",
   "execution_count": 1,
   "metadata": {},
   "outputs": [],
   "source": [
    "def my_function(*args):\n",
    "    for arg in args:\n",
    "        print (f'Argument is {arg}')"
   ]
  },
  {
   "cell_type": "code",
   "execution_count": 3,
   "metadata": {},
   "outputs": [
    {
     "name": "stdout",
     "output_type": "stream",
     "text": [
      "Argument is 11\n",
      "Argument is 416\n",
      "Argument is hello\n",
      "Argument is [1, 0.5]\n"
     ]
    }
   ],
   "source": [
    "my_function(11, 416,'hello',[1,.5])"
   ]
  },
  {
   "cell_type": "code",
   "execution_count": 4,
   "metadata": {},
   "outputs": [],
   "source": [
    "def my_function(add_number, *args):\n",
    "    for arg in args:\n",
    "        print (f'Argument + {add_number} is {add_number +arg}')"
   ]
  },
  {
   "cell_type": "code",
   "execution_count": 5,
   "metadata": {},
   "outputs": [
    {
     "name": "stdout",
     "output_type": "stream",
     "text": [
      "Argument + 14 is 114\n",
      "Argument + 14 is 64\n",
      "Argument + 14 is 70\n"
     ]
    }
   ],
   "source": [
    "my_function(14,100,50,56)"
   ]
  },
  {
   "cell_type": "code",
   "execution_count": 6,
   "metadata": {},
   "outputs": [],
   "source": [
    "def my_function_2(add_number, list_of_numbers):\n",
    "    for arg in list_of_numbers:\n",
    "        print (f'Argument + {add_number} is {add_number +arg}')"
   ]
  },
  {
   "cell_type": "code",
   "execution_count": 7,
   "metadata": {},
   "outputs": [
    {
     "name": "stdout",
     "output_type": "stream",
     "text": [
      "Argument + 14 is 114\n",
      "Argument + 14 is 64\n",
      "Argument + 14 is 70\n"
     ]
    }
   ],
   "source": [
    "my_function_2(14,[100,50,56])"
   ]
  },
  {
   "cell_type": "code",
   "execution_count": 11,
   "metadata": {},
   "outputs": [],
   "source": [
    "def my_function(add_number,  *args, text = 'hello'):\n",
    "    print(text)\n",
    "    for arg in args:\n",
    "        print (f'Argument + {add_number} is {add_number +arg}')"
   ]
  },
  {
   "cell_type": "code",
   "execution_count": 9,
   "metadata": {},
   "outputs": [
    {
     "name": "stdout",
     "output_type": "stream",
     "text": [
      "Argument + 14 is 114\n",
      "Argument + 14 is 64\n",
      "Argument + 14 is 70\n"
     ]
    }
   ],
   "source": [
    "my_function(14,100,50,56)"
   ]
  },
  {
   "cell_type": "code",
   "execution_count": 17,
   "metadata": {},
   "outputs": [],
   "source": [
    "def my_kwargs(text,**kwargs):\n",
    "    print(text)\n",
    "    for k,v in kwargs.items():\n",
    "        print (f'key is {k} with a value of {v}')"
   ]
  },
  {
   "cell_type": "code",
   "execution_count": 20,
   "metadata": {},
   "outputs": [
    {
     "name": "stdout",
     "output_type": "stream",
     "text": [
      "hello\n",
      "key is radius with a value of 10\n",
      "key is names with a value of ['Tomas', 'Darius']\n"
     ]
    }
   ],
   "source": [
    "my_kwargs(text='hello',radius = 10, names = ['Tomas','Darius'])"
   ]
  },
  {
   "cell_type": "markdown",
   "metadata": {},
   "source": [
    "## How many number are divisable by 1 to 10 inclusive?"
   ]
  },
  {
   "cell_type": "code",
   "execution_count": null,
   "metadata": {},
   "outputs": [],
   "source": [
    "Examples:\n",
    "my_function(1,2,65,30)\n",
    "result:\n",
    "my_dict = {1: 4, 2: 2, 3: 1, 4: 0, 5: 2, 6: 1, 7: 0, 8: 0, 9: 0, 10: 1}\n"
   ]
  },
  {
   "cell_type": "code",
   "execution_count": 49,
   "metadata": {},
   "outputs": [
    {
     "data": {
      "text/plain": [
       "{1: 4, 2: 2, 3: 1, 4: 0, 5: 2, 6: 1, 7: 0, 8: 0, 9: 0, 10: 1}"
      ]
     },
     "execution_count": 49,
     "metadata": {},
     "output_type": "execute_result"
    }
   ],
   "source": [
    "from collections import defaultdict\n",
    "\n",
    "def divide(*args):\n",
    "    #1st option\n",
    "    #result_dictionary = {1: 0, 2: 0, 3: 0, 4: 0, 5: 0, 6: 0, 7: 0, 8: 0, 9: 0, 10: 0}\n",
    "    #2 nd option\n",
    "    result_dictionary = {key:0 for key in range(1,11)}\n",
    "    #print(result_dictionary)\n",
    "    #print(result_dictionary)\n",
    "    # 3rd option\n",
    "    #result_dictionary = defaultdict(int)\n",
    "    #result_dictionary[0]\n",
    "    for number in args:\n",
    "        for key_number in result_dictionary.keys():\n",
    "            if number % key_number == 0:\n",
    "                result_dictionary[key_number] += 1\n",
    "\n",
    "    return result_dictionary\n"
   ]
  },
  {
   "cell_type": "code",
   "execution_count": 48,
   "metadata": {},
   "outputs": [
    {
     "data": {
      "text/plain": [
       "{1: 4, 2: 2, 3: 1, 4: 0, 5: 2, 6: 1, 7: 0, 8: 0, 9: 0, 10: 1}"
      ]
     },
     "execution_count": 48,
     "metadata": {},
     "output_type": "execute_result"
    }
   ],
   "source": [
    "divide(1,2,65,30)"
   ]
  },
  {
   "cell_type": "markdown",
   "metadata": {},
   "source": [
    "#Loops while"
   ]
  },
  {
   "cell_type": "code",
   "execution_count": 50,
   "metadata": {},
   "outputs": [
    {
     "name": "stdout",
     "output_type": "stream",
     "text": [
      "0 while loop\n",
      "1 while loop\n",
      "2 while loop\n",
      "3 while loop\n",
      "4 while loop\n",
      "end of while loop\n"
     ]
    }
   ],
   "source": [
    "x=0\n",
    "while x < 5:\n",
    "    print(f'{x} while loop')\n",
    "    x += 1\n",
    "print ('end of while loop')"
   ]
  },
  {
   "cell_type": "code",
   "execution_count": 51,
   "metadata": {},
   "outputs": [
    {
     "name": "stdout",
     "output_type": "stream",
     "text": [
      "hi\n",
      "input is not a number, try again\n",
      "input is not a number, try again\n",
      "you entered a number 5\n",
      "input is not a number, try again\n",
      "input is not a number, try again\n",
      "input is not a number, try again\n"
     ]
    }
   ],
   "source": [
    "print ('hi')\n",
    "while True:\n",
    "    user_input = input('enter a number')\n",
    "    if user_input.isdecimal():\n",
    "        print(f'you entered a number {user_input}')\n",
    "        break\n",
    "    print('input is not a number, try again')"
   ]
  },
  {
   "cell_type": "code",
   "execution_count": 14,
   "metadata": {},
   "outputs": [],
   "source": [
    "def string_analyzer(string_1: str):\n",
    "    letters = 0\n",
    "    numbers = 0\n",
    "    specials = 0\n",
    "    spaces = 0\n",
    "\n",
    "    for character in string_1:\n",
    "        if character.isalpha():\n",
    "            letters += 1\n",
    "        elif character.isdigit():\n",
    "            numbers += 1\n",
    "        elif character.isspace():\n",
    "            spaces += 1\n",
    "        else:\n",
    "            specials +=1\n",
    "    return f'There are {len(string_1)} symbols, {numbers} numbers, {letters} characters, {spaces} spaces, {specials} special characters'\n",
    "\n"
   ]
  },
  {
   "cell_type": "code",
   "execution_count": 15,
   "metadata": {},
   "outputs": [
    {
     "name": "stdout",
     "output_type": "stream",
     "text": [
      "There are 8 symbols, 1 numbers, 3 characters, 2 spaces, 2 special characters\n",
      "There are 13 symbols, 4 numbers, 3 characters, 3 spaces, 3 special characters\n"
     ]
    }
   ],
   "source": [
    "print(string_analyzer('one 2 ??'))\n",
    "print(string_analyzer('one 2 ?? 3.14'))"
   ]
  },
  {
   "cell_type": "code",
   "execution_count": 8,
   "metadata": {},
   "outputs": [],
   "source": [
    "def string_analyzer(string_1: str):\n",
    "    letters = 0\n",
    "    numbers = 0\n",
    "    specials = 0\n",
    "    spaces = 0\n",
    "\n",
    "    for character in string_1:\n",
    "        if character.isalpha():\n",
    "            letters += 1\n",
    "        elif character.isdigit():\n",
    "            numbers += 1\n",
    "        elif character.isspace():\n",
    "            spaces += 1\n",
    "        else:\n",
    "            specials += 1\n",
    "    return f'There are {len(string_1)} symbols, {numbers} numbers, {letters} letters, {spaces} spaces, {specials} specials'\n"
   ]
  },
  {
   "cell_type": "code",
   "execution_count": 9,
   "metadata": {},
   "outputs": [
    {
     "name": "stdout",
     "output_type": "stream",
     "text": [
      "There are 8 symbols, 1 numbers, 3 letters, 2 spaces, 2 specials\n",
      "There are 13 symbols, 4 numbers, 3 letters, 3 spaces, 3 specials\n"
     ]
    }
   ],
   "source": [
    "print(string_analyzer('one 2 ??'))\n",
    "print(string_analyzer('one 2 ?? 3.14'))"
   ]
  },
  {
   "cell_type": "code",
   "execution_count": 21,
   "metadata": {},
   "outputs": [
    {
     "name": "stdout",
     "output_type": "stream",
     "text": [
      "10\n",
      "global\n"
     ]
    }
   ],
   "source": [
    "global_variable = 'global'\n",
    "\n",
    "def simple_function():\n",
    "    local_variable = 10\n",
    "    print (local_variable)\n",
    "    print(global_variable)\n",
    "\n",
    "simple_function()\n",
    "#print(local_variable)# error, can't access local function variable"
   ]
  },
  {
   "cell_type": "code",
   "execution_count": 22,
   "metadata": {},
   "outputs": [
    {
     "name": "stdout",
     "output_type": "stream",
     "text": [
      "10\n",
      "2567086615984\n",
      "world\n",
      "after function global_variable is global\n"
     ]
    }
   ],
   "source": [
    "global_variable = 'global'\n",
    "\n",
    "def simple_function():\n",
    "    local_variable = 10\n",
    "    print( local_variable)\n",
    "    # global global_variable # takes global variable \n",
    "    global_variable = \"world\" # creates local variable instead of overwritting global\n",
    "    print (id(global_variable))\n",
    "    print(global_variable)\n",
    "\n",
    "simple_function()\n",
    "print (f'after function global_variable is {global_variable}')\n",
    "# print (local_variable) # error, can't access local function variable\n"
   ]
  },
  {
   "cell_type": "code",
   "execution_count": 33,
   "metadata": {},
   "outputs": [],
   "source": [
    "def my_function_3(list_1: list):\n",
    "    min_value = list_1[0]\n",
    "    max_value = list_1[0]\n",
    "    for number in list_1[1:]:\n",
    "        if number < min_value:\n",
    "            min_value = number\n",
    "        elif number > max_value:\n",
    "            max_value = number\n",
    "        print(f'min: {min_value}, max: {max_value}')\n",
    "\n",
    "    return max_value - min_value"
   ]
  },
  {
   "cell_type": "code",
   "execution_count": 34,
   "metadata": {},
   "outputs": [
    {
     "name": "stdout",
     "output_type": "stream",
     "text": [
      "min: 1, max: 5\n",
      "min: 1, max: 6\n",
      "min: 1, max: 10\n",
      "min: 1, max: 10\n",
      "min: -5, max: 10\n"
     ]
    },
    {
     "data": {
      "text/plain": [
       "15"
      ]
     },
     "execution_count": 34,
     "metadata": {},
     "output_type": "execute_result"
    }
   ],
   "source": [
    "my_function_3([1,5,6,10,4,-5])"
   ]
  },
  {
   "cell_type": "code",
   "execution_count": 35,
   "metadata": {},
   "outputs": [],
   "source": [
    "def my_function_3(list_1: list):\n",
    "    min_value = min(list_1)\n",
    "    max_value = max(list_1)\n",
    "    return max_value - min_value"
   ]
  },
  {
   "cell_type": "code",
   "execution_count": 36,
   "metadata": {},
   "outputs": [
    {
     "data": {
      "text/plain": [
       "15"
      ]
     },
     "execution_count": 36,
     "metadata": {},
     "output_type": "execute_result"
    }
   ],
   "source": [
    "my_function_3([1,5,6,10,4,-5])"
   ]
  },
  {
   "cell_type": "markdown",
   "metadata": {},
   "source": [
    "# Write a function that will accept two lists and return how many items in the first list exist in the second list"
   ]
  },
  {
   "cell_type": "code",
   "execution_count": 39,
   "metadata": {},
   "outputs": [],
   "source": [
    "def list_checker (list_1, list_2):\n",
    "    counter = 0\n",
    "    #print(set(list_1).intersection(list_2))\n",
    "    for number in set(list_1):\n",
    "        counter += list_2.count(number)\n",
    "    return counter"
   ]
  },
  {
   "cell_type": "code",
   "execution_count": 40,
   "metadata": {},
   "outputs": [
    {
     "data": {
      "text/plain": [
       "4"
      ]
     },
     "execution_count": 40,
     "metadata": {},
     "output_type": "execute_result"
    }
   ],
   "source": [
    "list_checker( [1,2], [1,1,2,3,3,3,3,1] )"
   ]
  },
  {
   "cell_type": "code",
   "execution_count": 41,
   "metadata": {},
   "outputs": [],
   "source": [
    "def list_checker( list_1, list_2: list):\n",
    "    # # option 1\n",
    "    # counter = 0\n",
    "    # for number in set(list_1):\n",
    "    #     counter += list_2.count(number)\n",
    "    # return counter\n",
    "    # option 2\n",
    "    return sum(list_2.count(number) for number in set(list_1) )\n"
   ]
  },
  {
   "cell_type": "code",
   "execution_count": 42,
   "metadata": {},
   "outputs": [
    {
     "name": "stdout",
     "output_type": "stream",
     "text": [
      "4\n",
      "10\n"
     ]
    }
   ],
   "source": [
    "print (list_checker([1,1,1,2,2], [1,1,2,3,3,3,3,1]) )\n",
    "print (list_checker([1,1,1,2,2,3, 5, 10], [1,1,2,3,3,3,3,1 ,10, 10]))\n"
   ]
  },
  {
   "cell_type": "code",
   "execution_count": 44,
   "metadata": {},
   "outputs": [],
   "source": [
    "PL = 3.14\n",
    "a1a = 10\n",
    "ABS = 'žodis'\n",
    "len = [5,10]"
   ]
  },
  {
   "cell_type": "code",
   "execution_count": 46,
   "metadata": {},
   "outputs": [
    {
     "name": "stdout",
     "output_type": "stream",
     "text": [
      "15\n"
     ]
    }
   ],
   "source": [
    "skaicius_1 = '1'\n",
    "skaicius_2 = '5'\n",
    "suma= skaicius_1 + skaicius_2\n",
    "print(suma)\n"
   ]
  },
  {
   "cell_type": "code",
   "execution_count": 47,
   "metadata": {},
   "outputs": [
    {
     "ename": "SyntaxError",
     "evalue": "unterminated string literal (detected at line 4) (Temp/ipykernel_12764/2042844228.py, line 4)",
     "output_type": "error",
     "traceback": [
      "\u001b[1;36m  File \u001b[1;32m\"C:\\Users\\grazg\\AppData\\Local\\Temp/ipykernel_12764/2042844228.py\"\u001b[1;36m, line \u001b[1;32m4\u001b[0m\n\u001b[1;33m    'foo'bar'\u001b[0m\n\u001b[1;37m            ^\u001b[0m\n\u001b[1;31mSyntaxError\u001b[0m\u001b[1;31m:\u001b[0m unterminated string literal (detected at line 4)\n"
     ]
    }
   ],
   "source": [
    "'foo' 'bar'\n",
    "\"foo'bar\"\n",
    "\"\"\"foo'bar\"\"\"\n",
    "'foo'bar'\n",
    "'foo\\'bar'"
   ]
  },
  {
   "cell_type": "code",
   "execution_count": 48,
   "metadata": {},
   "outputs": [
    {
     "data": {
      "text/plain": [
       "\"foo'bar\""
      ]
     },
     "execution_count": 48,
     "metadata": {},
     "output_type": "execute_result"
    }
   ],
   "source": [
    "'foo\\'bar'"
   ]
  },
  {
   "cell_type": "code",
   "execution_count": 49,
   "metadata": {},
   "outputs": [
    {
     "data": {
      "text/plain": [
       "'foobar'"
      ]
     },
     "execution_count": 49,
     "metadata": {},
     "output_type": "execute_result"
    }
   ],
   "source": [
    "'foo' 'bar'"
   ]
  },
  {
   "cell_type": "code",
   "execution_count": 50,
   "metadata": {},
   "outputs": [
    {
     "data": {
      "text/plain": [
       "\"foo'bar\""
      ]
     },
     "execution_count": 50,
     "metadata": {},
     "output_type": "execute_result"
    }
   ],
   "source": [
    "\"foo'bar\""
   ]
  },
  {
   "cell_type": "code",
   "execution_count": 52,
   "metadata": {},
   "outputs": [
    {
     "data": {
      "text/plain": [
       "False"
      ]
     },
     "execution_count": 52,
     "metadata": {},
     "output_type": "execute_result"
    }
   ],
   "source": [
    "True and not False and ( [] or bool (\"\") ) or \"word\".isdigit()"
   ]
  },
  {
   "cell_type": "code",
   "execution_count": 53,
   "metadata": {},
   "outputs": [
    {
     "name": "stdout",
     "output_type": "stream",
     "text": [
      "[True, 1, ['5', 3]]\n"
     ]
    }
   ],
   "source": [
    "list_1 = [True, 1 ]\n",
    "\n",
    "list_2 = ['5',3]\n",
    "list_1.append(list_2)\n",
    "print(list_1)"
   ]
  },
  {
   "cell_type": "code",
   "execution_count": 55,
   "metadata": {},
   "outputs": [
    {
     "name": "stdout",
     "output_type": "stream",
     "text": [
      "[11, 12, 13]\n"
     ]
    }
   ],
   "source": [
    "b= [1,2,3,4,5,6,'7','astuoni',9,[10,11,12,13,15]]\n",
    "print(b[9][1:4])"
   ]
  },
  {
   "cell_type": "code",
   "execution_count": 56,
   "metadata": {},
   "outputs": [
    {
     "name": "stdout",
     "output_type": "stream",
     "text": [
      "(2, 3)\n"
     ]
    }
   ],
   "source": [
    "skaiciai = (1,2,3,4,6)\n",
    "print(skaiciai[1:3])"
   ]
  },
  {
   "cell_type": "code",
   "execution_count": 57,
   "metadata": {},
   "outputs": [
    {
     "name": "stdout",
     "output_type": "stream",
     "text": [
      "sviestas\n"
     ]
    }
   ],
   "source": [
    "prekes = ['batonas','bananai', 'sviestas']\n",
    "print(prekes.pop())"
   ]
  },
  {
   "cell_type": "code",
   "execution_count": 58,
   "metadata": {},
   "outputs": [
    {
     "name": "stdout",
     "output_type": "stream",
     "text": [
      "False\n"
     ]
    }
   ],
   "source": [
    "list_1 = [1,5,4,10]\n",
    "print ('5' in list_1)"
   ]
  },
  {
   "cell_type": "code",
   "execution_count": 61,
   "metadata": {},
   "outputs": [
    {
     "name": "stdout",
     "output_type": "stream",
     "text": [
      "{1, 2, 5}\n"
     ]
    }
   ],
   "source": [
    "a = {1,2,5}\n",
    "a.add(5)\n",
    "print(a)"
   ]
  },
  {
   "cell_type": "code",
   "execution_count": 62,
   "metadata": {},
   "outputs": [
    {
     "name": "stdout",
     "output_type": "stream",
     "text": [
      "{5}\n"
     ]
    }
   ],
   "source": [
    "list_a= [4,5,5,6]\n",
    "list_b = [5, '6', 7,8]\n",
    "set_a = set(list_a)\n",
    "set_b = set(list_b)\n",
    "print(set_a.intersection(set_b)) "
   ]
  },
  {
   "cell_type": "code",
   "execution_count": 64,
   "metadata": {},
   "outputs": [
    {
     "name": "stdout",
     "output_type": "stream",
     "text": [
      "23\n"
     ]
    }
   ],
   "source": [
    "dict= {\n",
    "    'verte':10,\n",
    "    '1': 50,\n",
    "    1: 23\n",
    "}\n",
    "print(dict[1])"
   ]
  },
  {
   "cell_type": "code",
   "execution_count": 65,
   "metadata": {},
   "outputs": [
    {
     "name": "stdout",
     "output_type": "stream",
     "text": [
      "Sveikas nepazistamasai\n"
     ]
    }
   ],
   "source": [
    "vardas = 'Benas'\n",
    "if vardas == 'JOnas':\n",
    "    print('Sveikas Jonai')\n",
    "elif vardas == 'Karolis':\n",
    "    print('Sveikas, Karoli')\n",
    "elif vardas:\n",
    "    print ('Sveikas nepazistamasai')\n",
    "else:\n",
    "    print('Pakartokite varda')\n"
   ]
  },
  {
   "cell_type": "code",
   "execution_count": 66,
   "metadata": {},
   "outputs": [
    {
     "name": "stdout",
     "output_type": "stream",
     "text": [
      "14\n"
     ]
    }
   ],
   "source": [
    "x = 5\n",
    "for i in range (1,10):\n",
    "    x+=1\n",
    "print(x)"
   ]
  },
  {
   "cell_type": "code",
   "execution_count": 67,
   "metadata": {},
   "outputs": [
    {
     "name": "stdout",
     "output_type": "stream",
     "text": [
      "('baz', 3)\n",
      "('bar', 2)\n",
      "('foo', 1)\n",
      "Done\n"
     ]
    }
   ],
   "source": [
    "d = {'foo': 1, 'bar': 2, 'baz': 3}\n",
    "while d:\n",
    "    print(d.popitem())\n",
    "print('Done')"
   ]
  },
  {
   "cell_type": "code",
   "execution_count": 69,
   "metadata": {},
   "outputs": [
    {
     "ename": "NameError",
     "evalue": "name 'getsum' is not defined",
     "output_type": "error",
     "traceback": [
      "\u001b[1;31m---------------------------------------------------------------------------\u001b[0m",
      "\u001b[1;31mNameError\u001b[0m                                 Traceback (most recent call last)",
      "\u001b[1;32m~\\AppData\\Local\\Temp/ipykernel_12764/2084157324.py\u001b[0m in \u001b[0;36m<module>\u001b[1;34m\u001b[0m\n\u001b[1;32m----> 1\u001b[1;33m \u001b[0mgetsum\u001b[0m\u001b[1;33m(\u001b[0m\u001b[1;36m11\u001b[0m\u001b[1;33m,\u001b[0m\u001b[1;36m10\u001b[0m\u001b[1;33m)\u001b[0m\u001b[1;33m\u001b[0m\u001b[1;33m\u001b[0m\u001b[0m\n\u001b[0m\u001b[0;32m      2\u001b[0m \u001b[1;32mdef\u001b[0m \u001b[0mgetsum\u001b[0m\u001b[1;33m(\u001b[0m\u001b[0mx\u001b[0m\u001b[1;33m,\u001b[0m\u001b[0my\u001b[0m\u001b[1;33m)\u001b[0m\u001b[1;33m:\u001b[0m\u001b[1;33m\u001b[0m\u001b[1;33m\u001b[0m\u001b[0m\n\u001b[0;32m      3\u001b[0m     \u001b[0mprint\u001b[0m\u001b[1;33m(\u001b[0m\u001b[1;34mf'{x+y}'\u001b[0m\u001b[1;33m)\u001b[0m\u001b[1;33m\u001b[0m\u001b[1;33m\u001b[0m\u001b[0m\n",
      "\u001b[1;31mNameError\u001b[0m: name 'getsum' is not defined"
     ]
    }
   ],
   "source": [
    "getsum(11,10)\n",
    "def getsum(x,y):\n",
    "    print(f'{x+y}')"
   ]
  },
  {
   "cell_type": "code",
   "execution_count": 71,
   "metadata": {},
   "outputs": [
    {
     "name": "stdout",
     "output_type": "stream",
     "text": [
      "[20, 60, 80, 100]\n"
     ]
    }
   ],
   "source": [
    "list_1 = [5,10,20,30,45,55,60,70,80,90,100]\n",
    "def filter_list(list_to_filter,value):\n",
    "    result_list = []\n",
    "    for number in list_to_filter:\n",
    "        if number % value == 0:\n",
    "            result_list.append(number)\n",
    "    return result_list\n",
    "print(filter_list(list_1,20))"
   ]
  },
  {
   "cell_type": "code",
   "execution_count": null,
   "metadata": {},
   "outputs": [],
   "source": []
  }
 ],
 "metadata": {
  "interpreter": {
   "hash": "b1c97f7bc89565293a07588d9fca0428c84db0528dfcd478043cefefc018889a"
  },
  "kernelspec": {
   "display_name": "Python 3.10.0 64-bit",
   "language": "python",
   "name": "python3"
  },
  "language_info": {
   "codemirror_mode": {
    "name": "ipython",
    "version": 3
   },
   "file_extension": ".py",
   "mimetype": "text/x-python",
   "name": "python",
   "nbconvert_exporter": "python",
   "pygments_lexer": "ipython3",
   "version": "3.10.0"
  },
  "orig_nbformat": 4
 },
 "nbformat": 4,
 "nbformat_minor": 2
}
