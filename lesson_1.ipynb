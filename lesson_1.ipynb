{
 "cells": [
  {
   "cell_type": "code",
   "execution_count": 2,
   "metadata": {},
   "outputs": [
    {
     "name": "stdout",
     "output_type": "stream",
     "text": [
      "Gabriele\n"
     ]
    }
   ],
   "source": [
    "my_name = 'Gabriele'\n",
    "print (my_name)"
   ]
  },
  {
   "cell_type": "code",
   "execution_count": 3,
   "metadata": {},
   "outputs": [
    {
     "data": {
      "text/plain": [
       "'W'"
      ]
     },
     "execution_count": 3,
     "metadata": {},
     "output_type": "execute_result"
    }
   ],
   "source": [
    "'Hello World'[6]\n"
   ]
  },
  {
   "cell_type": "code",
   "execution_count": 4,
   "metadata": {},
   "outputs": [],
   "source": [
    "my_name = 'Gabriele'"
   ]
  },
  {
   "cell_type": "code",
   "execution_count": 6,
   "metadata": {},
   "outputs": [
    {
     "data": {
      "text/plain": [
       "'a'"
      ]
     },
     "execution_count": 6,
     "metadata": {},
     "output_type": "execute_result"
    }
   ],
   "source": [
    "my_name[1]"
   ]
  },
  {
   "cell_type": "code",
   "execution_count": 7,
   "metadata": {},
   "outputs": [
    {
     "data": {
      "text/plain": [
       "'e'"
      ]
     },
     "execution_count": 7,
     "metadata": {},
     "output_type": "execute_result"
    }
   ],
   "source": [
    "my_name[-1]"
   ]
  },
  {
   "cell_type": "code",
   "execution_count": 10,
   "metadata": {},
   "outputs": [
    {
     "name": "stdout",
     "output_type": "stream",
     "text": [
      "Darius and\" more' text\n"
     ]
    }
   ],
   "source": [
    "# my_text = 'more text' more text'\n",
    "# my_text = \"Darius and more' text\" #option 1\n",
    "# print(my_text)\n",
    "# my_text = \"Darius and\\\" more\\' text\" #option 2\n",
    "my_text= \"\"\"Darius and\" more' text\"\"\"\n",
    "print(my_text)\n"
   ]
  },
  {
   "cell_type": "code",
   "execution_count": 11,
   "metadata": {},
   "outputs": [],
   "source": [
    "my_variable = \\ #\\n - new line adding\n",
    "14"
   ]
  },
  {
   "cell_type": "code",
   "execution_count": 12,
   "metadata": {},
   "outputs": [
    {
     "name": "stdout",
     "output_type": "stream",
     "text": [
      "The Zen of Python, by Tim Peters\n",
      "\n",
      "Beautiful is better than ugly.\n",
      "Explicit is better than implicit.\n",
      "Simple is better than complex.\n",
      "Complex is better than complicated.\n",
      "Flat is better than nested.\n",
      "Sparse is better than dense.\n",
      "Readability counts.\n",
      "Special cases aren't special enough to break the rules.\n",
      "Although practicality beats purity.\n",
      "Errors should never pass silently.\n",
      "Unless explicitly silenced.\n",
      "In the face of ambiguity, refuse the temptation to guess.\n",
      "There should be one-- and preferably only one --obvious way to do it.\n",
      "Although that way may not be obvious at first unless you're Dutch.\n",
      "Now is better than never.\n",
      "Although never is often better than *right* now.\n",
      "If the implementation is hard to explain, it's a bad idea.\n",
      "If the implementation is easy to explain, it may be a good idea.\n",
      "Namespaces are one honking great idea -- let's do more of those!\n"
     ]
    }
   ],
   "source": [
    "import this"
   ]
  },
  {
   "cell_type": "code",
   "execution_count": 13,
   "metadata": {},
   "outputs": [],
   "source": [
    "my_surname = 'Razgute'"
   ]
  },
  {
   "cell_type": "code",
   "execution_count": 16,
   "metadata": {},
   "outputs": [
    {
     "name": "stdout",
     "output_type": "stream",
     "text": [
      "Gabriele\n",
      "Razgute\n",
      "Gabriele Razgute\n",
      "GabrieleGabrieleGabrieleGabrieleGabriele\n"
     ]
    }
   ],
   "source": [
    "print(my_name)\n",
    "print(my_surname)\n",
    "print(my_name + ' ' + my_surname)\n",
    "print(my_name*5)\n"
   ]
  },
  {
   "cell_type": "code",
   "execution_count": 17,
   "metadata": {},
   "outputs": [
    {
     "name": "stdout",
     "output_type": "stream",
     "text": [
      "My name is Gabriele Razgute\n"
     ]
    }
   ],
   "source": [
    "print('My name is',my_name, my_surname)"
   ]
  },
  {
   "cell_type": "code",
   "execution_count": 20,
   "metadata": {},
   "outputs": [
    {
     "name": "stdout",
     "output_type": "stream",
     "text": [
      "My name is Gabriele Razgute\n",
      "My name is Gabriele Razgute\n"
     ]
    }
   ],
   "source": [
    "#f-string -- formatting string\n",
    "print((f'My name is {my_name} {my_surname}'))# prefered way of formatting\n",
    "print('My name is {} {}'.format (my_name,my_surname))"
   ]
  },
  {
   "cell_type": "code",
   "execution_count": 21,
   "metadata": {},
   "outputs": [
    {
     "name": "stdout",
     "output_type": "stream",
     "text": [
      "My name is Gabriele Razgute and I am 26 years old\n"
     ]
    }
   ],
   "source": [
    "my_age= 26\n",
    "print((f'My name is {my_name} {my_surname} and I am {my_age} years old'))"
   ]
  },
  {
   "cell_type": "code",
   "execution_count": 62,
   "metadata": {},
   "outputs": [
    {
     "name": "stdout",
     "output_type": "stream",
     "text": [
      "learn Python\n",
      "learn \n",
      "d  mvr ap olan\n",
      "Hlo\n",
      "nohtyP nrael ot yppah yrev ma I ,dlroW olleH\n"
     ]
    }
   ],
   "source": [
    "#slicing\n",
    "sentence = 'Hello World, I am very happy to learn Python'\n",
    "print(sentence [32:])\n",
    "print(sentence [32:38])\n",
    "print(sentence [10:38:2])\n",
    "#[start:end:step]\n",
    "print(sentence [0:5:2])\n",
    "print(sentence [::-1])"
   ]
  },
  {
   "cell_type": "code",
   "execution_count": 52,
   "metadata": {},
   "outputs": [
    {
     "name": "stdout",
     "output_type": "stream",
     "text": [
      "11\n",
      ",\n"
     ]
    }
   ],
   "source": [
    "print (sentence.find(',') )\n",
    "print (sentence[sentence.find(',')] )\n",
    "\n",
    "\n",
    "\n",
    "\n",
    "\n"
   ]
  },
  {
   "cell_type": "code",
   "execution_count": 56,
   "metadata": {},
   "outputs": [
    {
     "data": {
      "text/plain": [
       "4158"
      ]
     },
     "execution_count": 56,
     "metadata": {},
     "output_type": "execute_result"
    }
   ],
   "source": [
    "text_with_numbers = '1,15,35,4158,354'\n",
    "int(text_with_numbers.split(',')[3])"
   ]
  },
  {
   "cell_type": "code",
   "execution_count": 64,
   "metadata": {},
   "outputs": [
    {
     "data": {
      "text/plain": [
       "'Gabriele Razgute'"
      ]
     },
     "execution_count": 64,
     "metadata": {},
     "output_type": "execute_result"
    }
   ],
   "source": [
    "name = 'Gabriele Razgute'\n",
    "name.title()"
   ]
  },
  {
   "cell_type": "code",
   "execution_count": 68,
   "metadata": {},
   "outputs": [
    {
     "name": "stdout",
     "output_type": "stream",
     "text": [
      "Hello World, I am very very happy to learn Python\n"
     ]
    }
   ],
   "source": [
    "sentence = 'Hello World, I am very happy to learn Python'\n",
    "sentence.replace('happy','very happy')\n",
    "sentence = sentence.replace('happy','very happy')\n",
    "print(sentence)"
   ]
  },
  {
   "cell_type": "code",
   "execution_count": 74,
   "metadata": {},
   "outputs": [
    {
     "name": "stdout",
     "output_type": "stream",
     "text": [
      "49\n",
      "Python\n",
      "Python\n"
     ]
    }
   ],
   "source": [
    "print (len(sentence))\n",
    "print (sentence[len(sentence) -6:])\n",
    "print (sentence[ -6:])"
   ]
  },
  {
   "cell_type": "code",
   "execution_count": 77,
   "metadata": {},
   "outputs": [
    {
     "name": "stdout",
     "output_type": "stream",
     "text": [
      "Gabriele Razgute\n"
     ]
    }
   ],
   "source": [
    "my_name = 'Gabriele'\n",
    "my_surname = \"Razgute\"\n",
    "print(f'{my_name} {my_surname}')"
   ]
  },
  {
   "cell_type": "code",
   "execution_count": 83,
   "metadata": {},
   "outputs": [
    {
     "name": "stdout",
     "output_type": "stream",
     "text": [
      "<built-in method upper of str object at 0x0000022FD6E33810>\n",
      "PyThOn makes me really really happy\n",
      "PyThOn makes me really really happy\n"
     ]
    }
   ],
   "source": [
    "my_string = 'Python makes me really really happy'\n",
    "print(my_string.upper)\n",
    "print(my_string.replace ('Python','PyThOn'))\n",
    "print(my_string.replace ('t','T').replace('o','O'))"
   ]
  },
  {
   "cell_type": "code",
   "execution_count": 90,
   "metadata": {},
   "outputs": [
    {
     "name": "stdout",
     "output_type": "stream",
     "text": [
      "33\n",
      "Python\n"
     ]
    }
   ],
   "source": [
    "another_string = 'Hello World, I am happy to learn Python'\n",
    "word_to_find = 'Python'\n",
    "print(another_string.index(word_to_find))\n",
    "print(another_string[another_string.index(word_to_find):another_string.index(word_to_find)+len(word_to_find)])"
   ]
  },
  {
   "cell_type": "code",
   "execution_count": 1,
   "metadata": {},
   "outputs": [
    {
     "data": {
      "text/plain": [
       "109"
      ]
     },
     "execution_count": 1,
     "metadata": {},
     "output_type": "execute_result"
    }
   ],
   "source": [
    "#3. \n",
    "#Find the last position (index) of a given substring.\n",
    "text = 'I felt happy because I saw the others were happy and because I knew I should feel happy, but I wasn’t really happy.'\n",
    "substring = 'happy'\n",
    "\n",
    "text.rfind(substring)\n"
   ]
  },
  {
   "cell_type": "code",
   "execution_count": null,
   "metadata": {},
   "outputs": [],
   "source": []
  }
 ],
 "metadata": {
  "interpreter": {
   "hash": "b1c97f7bc89565293a07588d9fca0428c84db0528dfcd478043cefefc018889a"
  },
  "kernelspec": {
   "display_name": "Python 3.10.0 64-bit",
   "language": "python",
   "name": "python3"
  },
  "language_info": {
   "codemirror_mode": {
    "name": "ipython",
    "version": 3
   },
   "file_extension": ".py",
   "mimetype": "text/x-python",
   "name": "python",
   "nbconvert_exporter": "python",
   "pygments_lexer": "ipython3",
   "version": "3.10.0"
  },
  "orig_nbformat": 4
 },
 "nbformat": 4,
 "nbformat_minor": 2
}
