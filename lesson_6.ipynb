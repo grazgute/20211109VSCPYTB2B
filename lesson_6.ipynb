{
 "cells": [
  {
   "cell_type": "markdown",
   "metadata": {},
   "source": [
    "# None"
   ]
  },
  {
   "cell_type": "code",
   "execution_count": 1,
   "metadata": {},
   "outputs": [],
   "source": [
    "user_input = ''\n",
    "\n",
    "user_input = input('Enter your name')\n",
    "if len(user_input)> 0:\n",
    "    print(user_input)"
   ]
  },
  {
   "cell_type": "code",
   "execution_count": 5,
   "metadata": {},
   "outputs": [
    {
     "name": "stdout",
     "output_type": "stream",
     "text": [
      "user_input has no value, enter it\n",
      "User name is: gabriele\n",
      "User name is: gabriele\n",
      "User name is: gabriele\n",
      "User name is: gabriele\n"
     ]
    }
   ],
   "source": [
    "user_input = None\n",
    "\n",
    "for i in range(5):\n",
    "    if user_input is None:\n",
    "        print('user_input has no value, enter it')\n",
    "        user_input = input ('enter your name')\n",
    "        if not user_input:\n",
    "            print(\"You havent't entered anything\")\n",
    "            user_input = None\n",
    "    else:\n",
    "            print(f'User name is: {user_input}')\n"
   ]
  },
  {
   "cell_type": "code",
   "execution_count": 7,
   "metadata": {},
   "outputs": [
    {
     "data": {
      "text/plain": [
       "NoneType"
      ]
     },
     "execution_count": 7,
     "metadata": {},
     "output_type": "execute_result"
    }
   ],
   "source": [
    "\n",
    "type(None)"
   ]
  },
  {
   "cell_type": "markdown",
   "metadata": {},
   "source": [
    "# Dictionaries"
   ]
  },
  {
   "cell_type": "code",
   "execution_count": 8,
   "metadata": {},
   "outputs": [],
   "source": [
    "my_dictionary = {\n",
    "    'name': 'Darius',\n",
    "    'year': 2008,\n",
    "    False: 'This is false',\n",
    "    5: 'Five',\n",
    "    'hobbies': ['tennis', 'football']\n",
    "\n",
    "}"
   ]
  },
  {
   "cell_type": "code",
   "execution_count": 9,
   "metadata": {},
   "outputs": [
    {
     "data": {
      "text/plain": [
       "'football'"
      ]
     },
     "execution_count": 9,
     "metadata": {},
     "output_type": "execute_result"
    }
   ],
   "source": [
    "my_dictionary['hobbies'][1]"
   ]
  },
  {
   "cell_type": "code",
   "execution_count": 17,
   "metadata": {},
   "outputs": [
    {
     "name": "stdout",
     "output_type": "stream",
     "text": [
      "{'brand': 'Ford', 'model': 'Mustang', 'year': 2020}\n"
     ]
    }
   ],
   "source": [
    "car= {\n",
    "    'brand': 'Ford',\n",
    "    'model': 'Mustang',\n",
    "    'year': 1964\n",
    "}\n",
    "\n",
    "car['brand']\n",
    "len('car')\n",
    "\n",
    "car['year']= 2020\n",
    "print(car)"
   ]
  },
  {
   "cell_type": "code",
   "execution_count": 18,
   "metadata": {},
   "outputs": [
    {
     "name": "stdout",
     "output_type": "stream",
     "text": [
      "{'brand': 'Ford', 'model': 'Mustang', 'year': 2020, 'color': 'red', 'used': True}\n"
     ]
    }
   ],
   "source": [
    "#car.setdefault\n",
    "#solution1\n",
    "car.update({'color':'red', 'used': True})\n",
    "print(car)\n"
   ]
  },
  {
   "cell_type": "code",
   "execution_count": 19,
   "metadata": {},
   "outputs": [],
   "source": [
    "#solution2\n",
    "car['color'] = 'red'\n",
    "car['used']= True"
   ]
  },
  {
   "cell_type": "code",
   "execution_count": 22,
   "metadata": {},
   "outputs": [
    {
     "name": "stdout",
     "output_type": "stream",
     "text": [
      "Ford\n",
      "{'year': 1992, 'color': 'red', 'used': True}\n",
      "{'year': None, 'color': 'red', 'used': True}\n"
     ]
    }
   ],
   "source": [
    "car= {\n",
    "    'brand': 'Ford',\n",
    "    'year': 1992,\n",
    "    'color': 'red',\n",
    "    'used': True\n",
    "    \n",
    "}\n",
    "\n",
    "print(car.pop('brand'))\n",
    "print(car)\n",
    "car['year']= None\n",
    "print(car)"
   ]
  },
  {
   "cell_type": "markdown",
   "metadata": {},
   "source": [
    "# Set"
   ]
  },
  {
   "cell_type": "code",
   "execution_count": 23,
   "metadata": {},
   "outputs": [],
   "source": [
    "fruits = {'apple', 'bananas', 'apple',1, 2,3,3,3,3,3}"
   ]
  },
  {
   "cell_type": "code",
   "execution_count": 24,
   "metadata": {},
   "outputs": [
    {
     "name": "stdout",
     "output_type": "stream",
     "text": [
      "{1, 2, 3, 'apple', 'bananas'}\n"
     ]
    }
   ],
   "source": [
    "print(fruits)"
   ]
  },
  {
   "cell_type": "code",
   "execution_count": 26,
   "metadata": {},
   "outputs": [
    {
     "name": "stdout",
     "output_type": "stream",
     "text": [
      "{'Jonas', 'Darius', 'Benas'}\n",
      "3\n"
     ]
    }
   ],
   "source": [
    "names = ['Darius', 'Benas','Jonas', 'Jonas','Jonas','Jonas']\n",
    "print(set(names))\n",
    "print(len(set(names)))"
   ]
  },
  {
   "cell_type": "code",
   "execution_count": 28,
   "metadata": {},
   "outputs": [
    {
     "name": "stdout",
     "output_type": "stream",
     "text": [
      "{'apple', 'orange', 'bananas', 'pineapple'}\n",
      "{'apple', 'pineapple', 'mandarin', 'bananas', 'pear', 'orange'}\n"
     ]
    }
   ],
   "source": [
    "fruits = {'apple', 'bananas', 'orange'}\n",
    "fruits.add('pineapple')\n",
    "print(fruits)\n",
    "fruits.update(['bananas', 'pear', 'mandarin'])\n",
    "print(fruits)"
   ]
  },
  {
   "cell_type": "code",
   "execution_count": 29,
   "metadata": {},
   "outputs": [
    {
     "ename": "TypeError",
     "evalue": "'set' object is not subscriptable",
     "output_type": "error",
     "traceback": [
      "\u001b[1;31m---------------------------------------------------------------------------\u001b[0m",
      "\u001b[1;31mTypeError\u001b[0m                                 Traceback (most recent call last)",
      "\u001b[1;32m~\\AppData\\Local\\Temp/ipykernel_4692/934761179.py\u001b[0m in \u001b[0;36m<module>\u001b[1;34m\u001b[0m\n\u001b[1;32m----> 1\u001b[1;33m \u001b[0mfruits\u001b[0m\u001b[1;33m[\u001b[0m\u001b[1;36m0\u001b[0m\u001b[1;33m]\u001b[0m \u001b[1;31m#error\u001b[0m\u001b[1;33m\u001b[0m\u001b[1;33m\u001b[0m\u001b[0m\n\u001b[0m",
      "\u001b[1;31mTypeError\u001b[0m: 'set' object is not subscriptable"
     ]
    }
   ],
   "source": [
    "fruits[0] #error"
   ]
  },
  {
   "cell_type": "code",
   "execution_count": 30,
   "metadata": {},
   "outputs": [],
   "source": [
    "#fruits.pop()\n",
    "\n"
   ]
  },
  {
   "cell_type": "code",
   "execution_count": 31,
   "metadata": {},
   "outputs": [
    {
     "ename": "KeyError",
     "evalue": "'bananas'",
     "output_type": "error",
     "traceback": [
      "\u001b[1;31m---------------------------------------------------------------------------\u001b[0m",
      "\u001b[1;31mKeyError\u001b[0m                                  Traceback (most recent call last)",
      "\u001b[1;32m~\\AppData\\Local\\Temp/ipykernel_4692/3204864119.py\u001b[0m in \u001b[0;36m<module>\u001b[1;34m\u001b[0m\n\u001b[0;32m      1\u001b[0m \u001b[0mfruits\u001b[0m\u001b[1;33m.\u001b[0m\u001b[0mremove\u001b[0m\u001b[1;33m(\u001b[0m\u001b[1;34m'bananas'\u001b[0m\u001b[1;33m)\u001b[0m\u001b[1;33m\u001b[0m\u001b[1;33m\u001b[0m\u001b[0m\n\u001b[1;32m----> 2\u001b[1;33m \u001b[0mfruits\u001b[0m\u001b[1;33m.\u001b[0m\u001b[0mremove\u001b[0m\u001b[1;33m(\u001b[0m\u001b[1;34m'bananas'\u001b[0m\u001b[1;33m)\u001b[0m\u001b[1;33m\u001b[0m\u001b[1;33m\u001b[0m\u001b[0m\n\u001b[0m",
      "\u001b[1;31mKeyError\u001b[0m: 'bananas'"
     ]
    }
   ],
   "source": [
    "fruits.remove('bananas')\n",
    "fruits.remove('bananas')"
   ]
  },
  {
   "cell_type": "code",
   "execution_count": 32,
   "metadata": {},
   "outputs": [
    {
     "name": "stdout",
     "output_type": "stream",
     "text": [
      "{'apple', 'orange'}\n"
     ]
    }
   ],
   "source": [
    "fruits = {'apple', 'bananas', 'orange'}\n",
    "fruits.discard('bananas')\n",
    "fruits.discard('bananas')\n",
    "fruits.discard('bananas')\n",
    "fruits.discard('bananas')\n",
    "fruits.discard('bananas')\n",
    "print(fruits)"
   ]
  },
  {
   "cell_type": "code",
   "execution_count": 36,
   "metadata": {},
   "outputs": [
    {
     "name": "stdout",
     "output_type": "stream",
     "text": [
      "{1, 2, 5, 7}\n",
      "{9, 3}\n",
      "{1, 2, 3, 5, 7, 9, 10, 11, 15, 250}\n"
     ]
    }
   ],
   "source": [
    "set_1 = {1,2,5,3,7,9}\n",
    "set_2 = {10,11,15,3,250,9}\n",
    "print(set_1.difference(set_2))\n",
    "print(set_1.intersection(set_2))\n",
    "set_3 = print(set_1.union(set_2))"
   ]
  },
  {
   "cell_type": "code",
   "execution_count": 37,
   "metadata": {},
   "outputs": [
    {
     "data": {
      "text/plain": [
       "True"
      ]
     },
     "execution_count": 37,
     "metadata": {},
     "output_type": "execute_result"
    }
   ],
   "source": [
    "set_1 = {2,3,4}\n",
    "set_2 = {1,2,3,4,5}\n",
    "set_1.issubset(set_2)"
   ]
  },
  {
   "cell_type": "code",
   "execution_count": 38,
   "metadata": {},
   "outputs": [
    {
     "data": {
      "text/plain": [
       "False"
      ]
     },
     "execution_count": 38,
     "metadata": {},
     "output_type": "execute_result"
    }
   ],
   "source": [
    "set_1 = {2,3,4,6}\n",
    "set_2 = {1,2,3,4,5}\n",
    "set_1.issubset(set_2)"
   ]
  },
  {
   "cell_type": "code",
   "execution_count": 40,
   "metadata": {},
   "outputs": [
    {
     "data": {
      "text/plain": [
       "True"
      ]
     },
     "execution_count": 40,
     "metadata": {},
     "output_type": "execute_result"
    }
   ],
   "source": [
    "set_1 = {2,3,4}\n",
    "set_2 = {1,2,3,4,5}\n",
    "set_2.issuperset(set_1)"
   ]
  },
  {
   "cell_type": "code",
   "execution_count": 43,
   "metadata": {},
   "outputs": [
    {
     "name": "stdout",
     "output_type": "stream",
     "text": [
      "{'apple', 'orange'}\n",
      "False\n",
      "False\n"
     ]
    }
   ],
   "source": [
    "print(fruits)\n",
    "print('bananas'in fruits)\n",
    "print('apples'in fruits)"
   ]
  },
  {
   "cell_type": "markdown",
   "metadata": {},
   "source": [
    "# tasks"
   ]
  },
  {
   "cell_type": "code",
   "execution_count": 47,
   "metadata": {},
   "outputs": [
    {
     "name": "stdout",
     "output_type": "stream",
     "text": [
      "{'apple', ('new value', 2015), 'bananas', 'cherry'}\n"
     ]
    }
   ],
   "source": [
    "fruits = {'apple', 'bananas', 'cherry'}\n",
    "fruits.add(('new value', 2015))\n",
    "print(fruits)"
   ]
  },
  {
   "cell_type": "code",
   "execution_count": 50,
   "metadata": {},
   "outputs": [
    {
     "name": "stdout",
     "output_type": "stream",
     "text": [
      "['apple', 'bananas', 'cherry']\n",
      "['pineapple', 'bananas', 'cherry']\n",
      "{'pineapple', 'bananas', 'cherry'}\n"
     ]
    }
   ],
   "source": [
    "#solution1\n",
    "fruits = {'apple', 'bananas', 'cherry'}\n",
    "tmp_list = list(fruits)\n",
    "print(tmp_list)\n",
    "tmp_list[0]= 'pineapple'\n",
    "print(tmp_list)\n",
    "fruits= set(tmp_list)\n",
    "print(fruits)"
   ]
  },
  {
   "cell_type": "code",
   "execution_count": 54,
   "metadata": {},
   "outputs": [
    {
     "name": "stdout",
     "output_type": "stream",
     "text": [
      "{'bananas', 'cherry'}\n",
      "{'pineapple', 'bananas', 'cherry'}\n"
     ]
    }
   ],
   "source": [
    "#solution2\n",
    "fruits = {'apple', 'bananas', 'cherry'}\n",
    "fruits.discard('apple')\n",
    "print(fruits)\n",
    "fruits.add('pineapple')\n",
    "print(fruits)"
   ]
  },
  {
   "cell_type": "code",
   "execution_count": 61,
   "metadata": {},
   "outputs": [
    {
     "name": "stdout",
     "output_type": "stream",
     "text": [
      "{'apple', 'watermelon', 'bananas', 'cherry'}\n",
      "{'watermelon', 'apple', 'pineapple', 'raspberry', 'bananas', 'tomato', 'pear', 'orange', 'cherry'}\n",
      "{'watermelon', 'pineapple', 'raspberry', 'bananas', 'tomato', 'pear', 'orange', 'cherry'}\n",
      "8\n",
      "8\n"
     ]
    }
   ],
   "source": [
    "fruits = {'apple', 'bananas', 'cherry'}\n",
    "fruits.add('watermelon')\n",
    "print(fruits)\n",
    "fruits.update(['pear','tomato','pineapple','orange', 'raspberry'])\n",
    "print(fruits)\n",
    "fruits.remove('apple')\n",
    "fruits.discard('apple')\n",
    "print(fruits)\n",
    "print(len(fruits))\n",
    "fruits.add('cherry')\n",
    "print(len(fruits))"
   ]
  },
  {
   "cell_type": "markdown",
   "metadata": {},
   "source": [
    "# Tasks for loops: Lyrics analysis"
   ]
  },
  {
   "cell_type": "code",
   "execution_count": 62,
   "metadata": {},
   "outputs": [],
   "source": [
    "song_1 = \"\"\"Is this the real life?\n",
    "Is this just fantasy?\n",
    "Caught in a landside,\n",
    "No escape from reality\n",
    "Open your eyes,\n",
    "Look up to the skies and see,\n",
    "I'm just a poor boy, I need no sympathy,\n",
    "Because I'm easy come, easy go,\n",
    "Little high, little low,\n",
    "Any way the wind blows doesn't really matter to\n",
    "Me, to me\n",
    "Mamaaa,\n",
    "Just killed a man,\n",
    "Put a gun against his head, pulled my trigger,\n",
    "Now he's dead\n",
    "Mamaaa, life had just begun,\n",
    "But now I've gone and thrown it all away\n",
    "Mama, oooh,\n",
    "Didn't mean to make you cry,\n",
    "If I'm not back again this time tomorrow,\n",
    "Carry on, carry on as if nothing really matters\n",
    "Too late, my time has come,\n",
    "Sends shivers down my spine, body's aching all\n",
    "The time\n",
    "Goodbye, everybody, I've got to go,\n",
    "Gotta leave you all behind and face the truth\n",
    "Mama, oooh\n",
    "I don't want to die,\n",
    "I sometimes wish I'd never been born at all.\n",
    "I see a little silhouetto of a man,\n",
    "Scaramouch, Scaramouch, will you do the Fandango!\n",
    "Thunderbolts and lightning, very, very frightening me\n",
    "Galileo, Galileo\n",
    "Galileo, Galileo\n",
    "Galileo, Figaro - magnificoo\n",
    "I'm just a poor boy nobody loves me\n",
    "He's just a poor boy from a poor family,\n",
    "Spare him his life from this monstrosity\n",
    "Easy come, easy go, will you let me go\n",
    "Bismillah! No, we will not let you go\n",
    "(Let him go!) Bismillah! We will not let you go\n",
    "(Let him go!) Bismillah! We will not let you go\n",
    "(Let me go) Will not let you go\n",
    "(Let me go)(Never) Never let you go\n",
    "(Let me go) (Never) let you go (Let me go) Ah\n",
    "No, no, no, no, no, no, no\n",
    "Oh mama mia, mama mia, mama mia, let me go\n",
    "Beelzebub has a devil put aside for me, for me,\n",
    "For meee\n",
    "So you think you can stop me and spit in my eye\n",
    "So you think you can love me and leave me to die\n",
    "Oh, baby, can't do this to me, baby,\n",
    "Just gotta get out, just gotta get right outta here\n",
    "Nothing really matters, Anyone can see,\n",
    "Nothing really matters,\n",
    "Nothing really matters to me\n",
    "Any way the wind blows...\"\"\""
   ]
  },
  {
   "cell_type": "code",
   "execution_count": 78,
   "metadata": {},
   "outputs": [],
   "source": [
    "filtered_song_1= song_1.lower().replace('the','').replace('?',' ').replace(',',' ').replace('...',' ').replace('(',' ' ).replace(')',' ' ).replace('!',' ' ).replace('.',' ' ).split()\n",
    "\n"
   ]
  },
  {
   "cell_type": "code",
   "execution_count": 79,
   "metadata": {},
   "outputs": [
    {
     "name": "stdout",
     "output_type": "stream",
     "text": [
      "362\n"
     ]
    }
   ],
   "source": [
    "print(len(filtered_song_1))"
   ]
  },
  {
   "cell_type": "code",
   "execution_count": 80,
   "metadata": {},
   "outputs": [
    {
     "name": "stdout",
     "output_type": "stream",
     "text": [
      "158\n"
     ]
    }
   ],
   "source": [
    "unique_words = set(filtered_song_1)\n",
    "print(len(unique_words))"
   ]
  },
  {
   "cell_type": "code",
   "execution_count": 83,
   "metadata": {},
   "outputs": [
    {
     "data": {
      "text/plain": [
       "43.646408839779006"
      ]
     },
     "execution_count": 83,
     "metadata": {},
     "output_type": "execute_result"
    }
   ],
   "source": [
    "len(unique_words)/len(filtered_song_1)*100"
   ]
  },
  {
   "cell_type": "code",
   "execution_count": 84,
   "metadata": {},
   "outputs": [
    {
     "name": "stdout",
     "output_type": "stream",
     "text": [
      "{'is': 2, 'this': 5, 'real': 1, 'life': 3, 'just': 8, 'fantasy': 1, 'caught': 1, 'in': 2, 'a': 10, 'landside': 1, 'no': 10, 'escape': 1, 'from': 3, 'reality': 1, 'open': 1, 'your': 1, 'eyes': 1, 'look': 1, 'up': 1, 'to': 9, 'skies': 1, 'and': 6, 'see': 3, \"i'm\": 4, 'poor': 4, 'boy': 3, 'i': 4, 'need': 1, 'sympathy': 1, 'because': 1, 'easy': 4, 'come': 3, 'go': 17, 'little': 3, 'high': 1, 'low': 1, 'any': 2, 'way': 2, 'wind': 2, 'blows': 2, \"doesn't\": 1, 'really': 5, 'matter': 1, 'me': 17, 'mamaaa': 2, 'killed': 1, 'man': 2, 'put': 2, 'gun': 1, 'against': 1, 'his': 2, 'head': 1, 'pulled': 1, 'my': 4, 'trigger': 1, 'now': 2, \"he's\": 2, 'dead': 1, 'had': 1, 'begun': 1, 'but': 1, \"i've\": 2, 'gone': 1, 'thrown': 1, 'it': 1, 'all': 4, 'away': 1, 'mama': 5, 'oooh': 2, \"didn't\": 1, 'mean': 1, 'make': 1, 'you': 14, 'cry': 1, 'if': 2, 'not': 5, 'back': 1, 'again': 1, 'time': 3, 'tomorrow': 1, 'carry': 2, 'on': 2, 'as': 1, 'nothing': 4, 'matters': 4, 'too': 1, 'late': 1, 'has': 2, 'sends': 1, 'shivers': 1, 'down': 1, 'spine': 1, \"body's\": 1, 'aching': 1, 'goodbye': 1, 'everybody': 1, 'got': 1, 'gotta': 3, 'leave': 2, 'behind': 1, 'face': 1, 'truth': 1, \"don't\": 1, 'want': 1, 'die': 2, 'sometimes': 1, 'wish': 1, \"i'd\": 1, 'never': 4, 'been': 1, 'born': 1, 'at': 1, 'silhouetto': 1, 'of': 1, 'scaramouch': 2, 'will': 6, 'do': 2, 'fandango': 1, 'thunderbolts': 1, 'lightning': 1, 'very': 2, 'frightening': 1, 'galileo': 5, 'figaro': 1, '-': 1, 'magnificoo': 1, 'nobody': 1, 'loves': 1, 'family': 1, 'spare': 1, 'him': 3, 'monstrosity': 1, 'let': 14, 'bismillah': 3, 'we': 3, 'ah': 1, 'oh': 2, 'mia': 3, 'beelzebub': 1, 'devil': 1, 'aside': 1, 'for': 3, 'meee': 1, 'so': 2, 'think': 2, 'can': 3, 'stop': 1, 'spit': 1, 'eye': 1, 'love': 1, 'baby': 2, \"can't\": 1, 'get': 2, 'out': 1, 'right': 1, 'outta': 1, 'here': 1, 'anyone': 1}\n"
     ]
    }
   ],
   "source": [
    "word_dict={}\n",
    "\n",
    "for i in filtered_song_1:\n",
    "    if i in word_dict:\n",
    "        word_dict[i]+=1\n",
    "    else:\n",
    "        word_dict[i]=1\n",
    "print(word_dict)\n"
   ]
  },
  {
   "cell_type": "code",
   "execution_count": 87,
   "metadata": {},
   "outputs": [
    {
     "name": "stdout",
     "output_type": "stream",
     "text": [
      "{'born': 1, 'for': 3, 'want': 1, 'up': 1, 'never': 4, 'everybody': 1, 'too': 1, 'as': 1, 'real': 1, 'at': 1, 'baby': 2, 'nothing': 4, 'not': 5, 'monstrosity': 1, 'right': 1, 'is': 2, 'scaramouch': 2, 'galileo': 5, 'any': 2, 'face': 1, 'magnificoo': 1, 'out': 1, 'open': 1, 'really': 5, 'shivers': 1, 'from': 3, 'mamaaa': 2, 'goodbye': 1, 'eye': 1, 'begun': 1, 'carry': 2, 'beelzebub': 1, 'little': 3, 'mean': 1, 'matters': 4, 'fantasy': 1, \"i'm\": 4, 'spare': 1, 'so': 2, 'this': 5, \"didn't\": 1, 'i': 4, 'my': 4, 'aching': 1, 'family': 1, 'poor': 4, 'need': 1, 'caught': 1, 'down': 1, 'anyone': 1, \"body's\": 1, 'die': 2, 'mia': 3, 'and': 6, 'silhouetto': 1, 'frightening': 1, 'him': 3, 'on': 2, 'tomorrow': 1, 'do': 2, 'will': 6, 'escape': 1, 'a': 10, 'go': 17, 'aside': 1, 'sympathy': 1, 'very': 2, \"can't\": 1, 'get': 2, 'can': 3, 'his': 2, \"i've\": 2, 'sometimes': 1, 'devil': 1, 'had': 1, 'meee': 1, 'been': 1, 'your': 1, 'truth': 1, 'stop': 1, 'here': 1, 'just': 8, 'fandango': 1, 'oooh': 2, 'killed': 1, 'gone': 1, 'has': 2, 'now': 2, 'oh': 2, 'skies': 1, 'sends': 1, 'spine': 1, 'back': 1, 'in': 2, 'outta': 1, \"i'd\": 1, 'make': 1, 'ah': 1, 'matter': 1, 'landside': 1, 'against': 1, 'because': 1, 'trigger': 1, 'love': 1, 'thrown': 1, 'man': 2, 'time': 3, 'it': 1, 'dead': 1, 'look': 1, 'eyes': 1, 'loves': 1, 'lightning': 1, 'high': 1, 'late': 1, \"he's\": 2, 'you': 14, 'think': 2, 'see': 3, 'we': 3, 'let': 14, 'but': 1, \"don't\": 1, '-': 1, 'mama': 5, 'bismillah': 3, 'to': 9, 'figaro': 1, 'gotta': 3, 'me': 17, 'reality': 1, 'no': 10, 'come': 3, 'spit': 1, 'if': 2, 'behind': 1, 'away': 1, 'again': 1, 'way': 2, 'boy': 3, 'pulled': 1, 'got': 1, 'all': 4, 'nobody': 1, 'of': 1, 'low': 1, 'gun': 1, 'easy': 4, 'put': 2, 'cry': 1, 'wind': 2, 'wish': 1, 'head': 1, 'life': 3, 'blows': 2, 'thunderbolts': 1, 'leave': 2, \"doesn't\": 1}\n"
     ]
    }
   ],
   "source": [
    "word_dict={}\n",
    "\n",
    "for unique_word in unique_words:\n",
    "    word_dict[unique_word]=filtered_song_1.count(unique_word)\n",
    "print(word_dict)"
   ]
  },
  {
   "cell_type": "code",
   "execution_count": null,
   "metadata": {},
   "outputs": [],
   "source": []
  }
 ],
 "metadata": {
  "interpreter": {
   "hash": "b1c97f7bc89565293a07588d9fca0428c84db0528dfcd478043cefefc018889a"
  },
  "kernelspec": {
   "display_name": "Python 3.10.0 64-bit",
   "language": "python",
   "name": "python3"
  },
  "language_info": {
   "codemirror_mode": {
    "name": "ipython",
    "version": 3
   },
   "file_extension": ".py",
   "mimetype": "text/x-python",
   "name": "python",
   "nbconvert_exporter": "python",
   "pygments_lexer": "ipython3",
   "version": "3.10.0"
  },
  "orig_nbformat": 4
 },
 "nbformat": 4,
 "nbformat_minor": 2
}
