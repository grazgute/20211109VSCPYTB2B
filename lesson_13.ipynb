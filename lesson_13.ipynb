{
 "cells": [
  {
   "cell_type": "markdown",
   "metadata": {},
   "source": [
    "# Homework"
   ]
  },
  {
   "cell_type": "code",
   "execution_count": 2,
   "metadata": {},
   "outputs": [],
   "source": [
    "import pandas as pd\n",
    "df = pd.read_csv(r'C:\\Users\\grazg\\OneDrive\\Documents\\Python\\20211109VSCPYTB2B\\LT.csv')\n"
   ]
  },
  {
   "cell_type": "code",
   "execution_count": null,
   "metadata": {},
   "outputs": [],
   "source": [
    "#1 Create a new column to calculate the amount of goals scored\n"
   ]
  },
  {
   "cell_type": "code",
   "execution_count": 3,
   "metadata": {},
   "outputs": [
    {
     "data": {
      "text/html": [
       "<div>\n",
       "<style scoped>\n",
       "    .dataframe tbody tr th:only-of-type {\n",
       "        vertical-align: middle;\n",
       "    }\n",
       "\n",
       "    .dataframe tbody tr th {\n",
       "        vertical-align: top;\n",
       "    }\n",
       "\n",
       "    .dataframe thead th {\n",
       "        text-align: right;\n",
       "    }\n",
       "</style>\n",
       "<table border=\"1\" class=\"dataframe\">\n",
       "  <thead>\n",
       "    <tr style=\"text-align: right;\">\n",
       "      <th></th>\n",
       "      <th>date</th>\n",
       "      <th>home_team</th>\n",
       "      <th>away_team</th>\n",
       "      <th>home_score</th>\n",
       "      <th>away_score</th>\n",
       "      <th>tourniment</th>\n",
       "      <th>city</th>\n",
       "      <th>country</th>\n",
       "      <th>score_diff</th>\n",
       "    </tr>\n",
       "  </thead>\n",
       "  <tbody>\n",
       "    <tr>\n",
       "      <th>0</th>\n",
       "      <td>1979-07-20</td>\n",
       "      <td>Kyrgyzstan</td>\n",
       "      <td>Lithuania</td>\n",
       "      <td>0</td>\n",
       "      <td>0</td>\n",
       "      <td>Friendly</td>\n",
       "      <td>Moscow</td>\n",
       "      <td>Soviet Union</td>\n",
       "      <td>0</td>\n",
       "    </tr>\n",
       "    <tr>\n",
       "      <th>1</th>\n",
       "      <td>1979-07-22</td>\n",
       "      <td>Georgia</td>\n",
       "      <td>Lithuania</td>\n",
       "      <td>5</td>\n",
       "      <td>0</td>\n",
       "      <td>Friendly</td>\n",
       "      <td>Moscow</td>\n",
       "      <td>Soviet Union</td>\n",
       "      <td>5</td>\n",
       "    </tr>\n",
       "    <tr>\n",
       "      <th>2</th>\n",
       "      <td>1979-07-24</td>\n",
       "      <td>Azerbaijan</td>\n",
       "      <td>Lithuania</td>\n",
       "      <td>0</td>\n",
       "      <td>1</td>\n",
       "      <td>Friendly</td>\n",
       "      <td>Moscow</td>\n",
       "      <td>Soviet Union</td>\n",
       "      <td>-1</td>\n",
       "    </tr>\n",
       "    <tr>\n",
       "      <th>3</th>\n",
       "      <td>1979-07-28</td>\n",
       "      <td>Lithuania</td>\n",
       "      <td>Ukraine</td>\n",
       "      <td>0</td>\n",
       "      <td>2</td>\n",
       "      <td>Friendly</td>\n",
       "      <td>Moscow</td>\n",
       "      <td>Soviet Union</td>\n",
       "      <td>-2</td>\n",
       "    </tr>\n",
       "    <tr>\n",
       "      <th>4</th>\n",
       "      <td>1979-07-30</td>\n",
       "      <td>Russia</td>\n",
       "      <td>Lithuania</td>\n",
       "      <td>2</td>\n",
       "      <td>0</td>\n",
       "      <td>Friendly</td>\n",
       "      <td>Moscow</td>\n",
       "      <td>Soviet Union</td>\n",
       "      <td>2</td>\n",
       "    </tr>\n",
       "    <tr>\n",
       "      <th>...</th>\n",
       "      <td>...</td>\n",
       "      <td>...</td>\n",
       "      <td>...</td>\n",
       "      <td>...</td>\n",
       "      <td>...</td>\n",
       "      <td>...</td>\n",
       "      <td>...</td>\n",
       "      <td>...</td>\n",
       "      <td>...</td>\n",
       "    </tr>\n",
       "    <tr>\n",
       "      <th>362</th>\n",
       "      <td>2019-09-10</td>\n",
       "      <td>Lithuania</td>\n",
       "      <td>Portugal</td>\n",
       "      <td>1</td>\n",
       "      <td>5</td>\n",
       "      <td>UEFA Euro qualification</td>\n",
       "      <td>Vilnius</td>\n",
       "      <td>Lithuania</td>\n",
       "      <td>-4</td>\n",
       "    </tr>\n",
       "    <tr>\n",
       "      <th>363</th>\n",
       "      <td>2019-10-11</td>\n",
       "      <td>Ukraine</td>\n",
       "      <td>Lithuania</td>\n",
       "      <td>2</td>\n",
       "      <td>0</td>\n",
       "      <td>UEFA Euro qualification</td>\n",
       "      <td>Kharkiv</td>\n",
       "      <td>Ukraine</td>\n",
       "      <td>2</td>\n",
       "    </tr>\n",
       "    <tr>\n",
       "      <th>364</th>\n",
       "      <td>2019-10-11</td>\n",
       "      <td>Ukraine</td>\n",
       "      <td>Lithuania</td>\n",
       "      <td>2</td>\n",
       "      <td>0</td>\n",
       "      <td>UEFA Euro qualification</td>\n",
       "      <td>Kharkiv</td>\n",
       "      <td>Ukraine</td>\n",
       "      <td>2</td>\n",
       "    </tr>\n",
       "    <tr>\n",
       "      <th>365</th>\n",
       "      <td>2019-10-14</td>\n",
       "      <td>Lithuania</td>\n",
       "      <td>Serbia</td>\n",
       "      <td>1</td>\n",
       "      <td>2</td>\n",
       "      <td>UEFA Euro qualification</td>\n",
       "      <td>Vilnius</td>\n",
       "      <td>Lithuania</td>\n",
       "      <td>-1</td>\n",
       "    </tr>\n",
       "    <tr>\n",
       "      <th>366</th>\n",
       "      <td>2019-10-14</td>\n",
       "      <td>Lithuania</td>\n",
       "      <td>Serbia</td>\n",
       "      <td>1</td>\n",
       "      <td>2</td>\n",
       "      <td>UEFA Euro qualification</td>\n",
       "      <td>Vilnius</td>\n",
       "      <td>Lithuania</td>\n",
       "      <td>-1</td>\n",
       "    </tr>\n",
       "  </tbody>\n",
       "</table>\n",
       "<p>367 rows × 9 columns</p>\n",
       "</div>"
      ],
      "text/plain": [
       "           date   home_team  away_team  home_score  away_score  \\\n",
       "0    1979-07-20  Kyrgyzstan  Lithuania           0           0   \n",
       "1    1979-07-22     Georgia  Lithuania           5           0   \n",
       "2    1979-07-24  Azerbaijan  Lithuania           0           1   \n",
       "3    1979-07-28   Lithuania    Ukraine           0           2   \n",
       "4    1979-07-30      Russia  Lithuania           2           0   \n",
       "..          ...         ...        ...         ...         ...   \n",
       "362  2019-09-10   Lithuania   Portugal           1           5   \n",
       "363  2019-10-11     Ukraine  Lithuania           2           0   \n",
       "364  2019-10-11     Ukraine  Lithuania           2           0   \n",
       "365  2019-10-14   Lithuania     Serbia           1           2   \n",
       "366  2019-10-14   Lithuania     Serbia           1           2   \n",
       "\n",
       "                  tourniment     city       country  score_diff  \n",
       "0                   Friendly   Moscow  Soviet Union           0  \n",
       "1                   Friendly   Moscow  Soviet Union           5  \n",
       "2                   Friendly   Moscow  Soviet Union          -1  \n",
       "3                   Friendly   Moscow  Soviet Union          -2  \n",
       "4                   Friendly   Moscow  Soviet Union           2  \n",
       "..                       ...      ...           ...         ...  \n",
       "362  UEFA Euro qualification  Vilnius     Lithuania          -4  \n",
       "363  UEFA Euro qualification  Kharkiv       Ukraine           2  \n",
       "364  UEFA Euro qualification  Kharkiv       Ukraine           2  \n",
       "365  UEFA Euro qualification  Vilnius     Lithuania          -1  \n",
       "366  UEFA Euro qualification  Vilnius     Lithuania          -1  \n",
       "\n",
       "[367 rows x 9 columns]"
      ]
     },
     "execution_count": 3,
     "metadata": {},
     "output_type": "execute_result"
    }
   ],
   "source": [
    "# 2 Create a new column to calculate the goal diff\n",
    "df['score_diff'] = df['home_score'] - df['away_score']\n",
    "df"
   ]
  },
  {
   "cell_type": "code",
   "execution_count": 8,
   "metadata": {},
   "outputs": [
    {
     "name": "stdout",
     "output_type": "stream",
     "text": [
      "73\n"
     ]
    }
   ],
   "source": [
    "# 3. How many matches ended in a draw?\n",
    "draw_games = df [df['score_diff' ] == 0]\n",
    "print(len(draw_games))"
   ]
  },
  {
   "cell_type": "code",
   "execution_count": 17,
   "metadata": {},
   "outputs": [
    {
     "data": {
      "text/html": [
       "<div>\n",
       "<style scoped>\n",
       "    .dataframe tbody tr th:only-of-type {\n",
       "        vertical-align: middle;\n",
       "    }\n",
       "\n",
       "    .dataframe tbody tr th {\n",
       "        vertical-align: top;\n",
       "    }\n",
       "\n",
       "    .dataframe thead th {\n",
       "        text-align: right;\n",
       "    }\n",
       "</style>\n",
       "<table border=\"1\" class=\"dataframe\">\n",
       "  <thead>\n",
       "    <tr style=\"text-align: right;\">\n",
       "      <th></th>\n",
       "      <th>date</th>\n",
       "      <th>home_team</th>\n",
       "      <th>away_team</th>\n",
       "      <th>home_score</th>\n",
       "      <th>away_score</th>\n",
       "      <th>tourniment</th>\n",
       "      <th>city</th>\n",
       "      <th>country</th>\n",
       "      <th>score_diff</th>\n",
       "    </tr>\n",
       "  </thead>\n",
       "  <tbody>\n",
       "    <tr>\n",
       "      <th>108</th>\n",
       "      <td>2000-10-11</td>\n",
       "      <td>Lithuania</td>\n",
       "      <td>Hungary</td>\n",
       "      <td>1</td>\n",
       "      <td>6</td>\n",
       "      <td>FIFA World Cup qualification</td>\n",
       "      <td>Kaunas</td>\n",
       "      <td>Lithuania</td>\n",
       "      <td>-5</td>\n",
       "    </tr>\n",
       "  </tbody>\n",
       "</table>\n",
       "</div>"
      ],
      "text/plain": [
       "           date  home_team away_team  home_score  away_score  \\\n",
       "108  2000-10-11  Lithuania   Hungary           1           6   \n",
       "\n",
       "                       tourniment    city    country  score_diff  \n",
       "108  FIFA World Cup qualification  Kaunas  Lithuania          -5  "
      ]
     },
     "execution_count": 17,
     "metadata": {},
     "output_type": "execute_result"
    }
   ],
   "source": [
    "# 4 Which country did we lose by the biggest difference, playing at home, when did it happen, in what city did the match take place?\n",
    "df_sorted = df.sort_values(by = 'score_diff', ascending = True)\n",
    "df_sorted_lt = df_sorted[df_sorted['home_team']=='Lithuania']\n",
    "#take first row:\n",
    "#print(df_sorted_lt['score_diff'].min())\n",
    "df_sorted_lt[df_sorted_lt['score_diff']== df_sorted_lt['score_diff'].min()]"
   ]
  },
  {
   "cell_type": "code",
   "execution_count": 19,
   "metadata": {},
   "outputs": [
    {
     "data": {
      "text/html": [
       "<div>\n",
       "<style scoped>\n",
       "    .dataframe tbody tr th:only-of-type {\n",
       "        vertical-align: middle;\n",
       "    }\n",
       "\n",
       "    .dataframe tbody tr th {\n",
       "        vertical-align: top;\n",
       "    }\n",
       "\n",
       "    .dataframe thead th {\n",
       "        text-align: right;\n",
       "    }\n",
       "</style>\n",
       "<table border=\"1\" class=\"dataframe\">\n",
       "  <thead>\n",
       "    <tr style=\"text-align: right;\">\n",
       "      <th></th>\n",
       "      <th>date</th>\n",
       "      <th>home_team</th>\n",
       "      <th>away_team</th>\n",
       "      <th>home_score</th>\n",
       "      <th>away_score</th>\n",
       "      <th>tourniment</th>\n",
       "      <th>city</th>\n",
       "      <th>country</th>\n",
       "      <th>score_diff</th>\n",
       "    </tr>\n",
       "  </thead>\n",
       "  <tbody>\n",
       "    <tr>\n",
       "      <th>1</th>\n",
       "      <td>1979-07-22</td>\n",
       "      <td>Georgia</td>\n",
       "      <td>Lithuania</td>\n",
       "      <td>5</td>\n",
       "      <td>0</td>\n",
       "      <td>Friendly</td>\n",
       "      <td>Moscow</td>\n",
       "      <td>Soviet Union</td>\n",
       "      <td>5</td>\n",
       "    </tr>\n",
       "    <tr>\n",
       "      <th>4</th>\n",
       "      <td>1979-07-30</td>\n",
       "      <td>Russia</td>\n",
       "      <td>Lithuania</td>\n",
       "      <td>2</td>\n",
       "      <td>0</td>\n",
       "      <td>Friendly</td>\n",
       "      <td>Moscow</td>\n",
       "      <td>Soviet Union</td>\n",
       "      <td>2</td>\n",
       "    </tr>\n",
       "    <tr>\n",
       "      <th>6</th>\n",
       "      <td>1979-08-05</td>\n",
       "      <td>Russia</td>\n",
       "      <td>Lithuania</td>\n",
       "      <td>2</td>\n",
       "      <td>1</td>\n",
       "      <td>Friendly</td>\n",
       "      <td>Moscow</td>\n",
       "      <td>Soviet Union</td>\n",
       "      <td>1</td>\n",
       "    </tr>\n",
       "    <tr>\n",
       "      <th>10</th>\n",
       "      <td>1992-04-14</td>\n",
       "      <td>Austria</td>\n",
       "      <td>Lithuania</td>\n",
       "      <td>4</td>\n",
       "      <td>0</td>\n",
       "      <td>Friendly</td>\n",
       "      <td>Vienna</td>\n",
       "      <td>Austria</td>\n",
       "      <td>4</td>\n",
       "    </tr>\n",
       "    <tr>\n",
       "      <th>13</th>\n",
       "      <td>1992-06-03</td>\n",
       "      <td>Albania</td>\n",
       "      <td>Lithuania</td>\n",
       "      <td>1</td>\n",
       "      <td>0</td>\n",
       "      <td>FIFA World Cup qualification</td>\n",
       "      <td>Tirana</td>\n",
       "      <td>Albania</td>\n",
       "      <td>1</td>\n",
       "    </tr>\n",
       "    <tr>\n",
       "      <th>...</th>\n",
       "      <td>...</td>\n",
       "      <td>...</td>\n",
       "      <td>...</td>\n",
       "      <td>...</td>\n",
       "      <td>...</td>\n",
       "      <td>...</td>\n",
       "      <td>...</td>\n",
       "      <td>...</td>\n",
       "      <td>...</td>\n",
       "    </tr>\n",
       "    <tr>\n",
       "      <th>352</th>\n",
       "      <td>2019-03-22</td>\n",
       "      <td>Luxembourg</td>\n",
       "      <td>Lithuania</td>\n",
       "      <td>2</td>\n",
       "      <td>1</td>\n",
       "      <td>UEFA Euro qualification</td>\n",
       "      <td>Luxembourg City</td>\n",
       "      <td>Luxembourg</td>\n",
       "      <td>1</td>\n",
       "    </tr>\n",
       "    <tr>\n",
       "      <th>357</th>\n",
       "      <td>2019-06-10</td>\n",
       "      <td>Serbia</td>\n",
       "      <td>Lithuania</td>\n",
       "      <td>4</td>\n",
       "      <td>1</td>\n",
       "      <td>UEFA Euro qualification</td>\n",
       "      <td>Belgrade</td>\n",
       "      <td>Serbia</td>\n",
       "      <td>3</td>\n",
       "    </tr>\n",
       "    <tr>\n",
       "      <th>358</th>\n",
       "      <td>2019-06-10</td>\n",
       "      <td>Serbia</td>\n",
       "      <td>Lithuania</td>\n",
       "      <td>4</td>\n",
       "      <td>1</td>\n",
       "      <td>UEFA Euro qualification</td>\n",
       "      <td>Belgrade</td>\n",
       "      <td>Serbia</td>\n",
       "      <td>3</td>\n",
       "    </tr>\n",
       "    <tr>\n",
       "      <th>363</th>\n",
       "      <td>2019-10-11</td>\n",
       "      <td>Ukraine</td>\n",
       "      <td>Lithuania</td>\n",
       "      <td>2</td>\n",
       "      <td>0</td>\n",
       "      <td>UEFA Euro qualification</td>\n",
       "      <td>Kharkiv</td>\n",
       "      <td>Ukraine</td>\n",
       "      <td>2</td>\n",
       "    </tr>\n",
       "    <tr>\n",
       "      <th>364</th>\n",
       "      <td>2019-10-11</td>\n",
       "      <td>Ukraine</td>\n",
       "      <td>Lithuania</td>\n",
       "      <td>2</td>\n",
       "      <td>0</td>\n",
       "      <td>UEFA Euro qualification</td>\n",
       "      <td>Kharkiv</td>\n",
       "      <td>Ukraine</td>\n",
       "      <td>2</td>\n",
       "    </tr>\n",
       "  </tbody>\n",
       "</table>\n",
       "<p>138 rows × 9 columns</p>\n",
       "</div>"
      ],
      "text/plain": [
       "           date   home_team  away_team  home_score  away_score  \\\n",
       "1    1979-07-22     Georgia  Lithuania           5           0   \n",
       "4    1979-07-30      Russia  Lithuania           2           0   \n",
       "6    1979-08-05      Russia  Lithuania           2           1   \n",
       "10   1992-04-14     Austria  Lithuania           4           0   \n",
       "13   1992-06-03     Albania  Lithuania           1           0   \n",
       "..          ...         ...        ...         ...         ...   \n",
       "352  2019-03-22  Luxembourg  Lithuania           2           1   \n",
       "357  2019-06-10      Serbia  Lithuania           4           1   \n",
       "358  2019-06-10      Serbia  Lithuania           4           1   \n",
       "363  2019-10-11     Ukraine  Lithuania           2           0   \n",
       "364  2019-10-11     Ukraine  Lithuania           2           0   \n",
       "\n",
       "                       tourniment             city       country  score_diff  \n",
       "1                        Friendly           Moscow  Soviet Union           5  \n",
       "4                        Friendly           Moscow  Soviet Union           2  \n",
       "6                        Friendly           Moscow  Soviet Union           1  \n",
       "10                       Friendly           Vienna       Austria           4  \n",
       "13   FIFA World Cup qualification           Tirana       Albania           1  \n",
       "..                            ...              ...           ...         ...  \n",
       "352       UEFA Euro qualification  Luxembourg City    Luxembourg           1  \n",
       "357       UEFA Euro qualification         Belgrade        Serbia           3  \n",
       "358       UEFA Euro qualification         Belgrade        Serbia           3  \n",
       "363       UEFA Euro qualification          Kharkiv       Ukraine           2  \n",
       "364       UEFA Euro qualification          Kharkiv       Ukraine           2  \n",
       "\n",
       "[138 rows x 9 columns]"
      ]
     },
     "execution_count": 19,
     "metadata": {},
     "output_type": "execute_result"
    }
   ],
   "source": [
    "#5. How many matches did Lithuania lose by playing abroad?\n",
    "df[ (df['away_team']=='Lithuania') & (df['score_diff'] > 0)]"
   ]
  },
  {
   "cell_type": "code",
   "execution_count": 22,
   "metadata": {},
   "outputs": [
    {
     "data": {
      "text/plain": [
       "(367, 9)"
      ]
     },
     "execution_count": 22,
     "metadata": {},
     "output_type": "execute_result"
    }
   ],
   "source": [
    "#6. How many matches did Lithuania win by playing abroad?\n",
    "df[ (df['away_team']=='Lithuania') & (df['score_diff'] < 0)]\n",
    "#print(len(df[ (df['away_team']=='Lithuania') & (df['score_diff'] < 0)]))\n",
    "# how to extract row number: first number is rows second number is columns\n",
    "df.shape\n"
   ]
  },
  {
   "cell_type": "code",
   "execution_count": 25,
   "metadata": {},
   "outputs": [
    {
     "name": "stdout",
     "output_type": "stream",
     "text": [
      "47\n"
     ]
    }
   ],
   "source": [
    "#7. How many matches did Lithuania win by playing in Lithuania?\n",
    "df[ (df['home_team']=='Lithuania') & (df['score_diff'] > 0) & (df['country']=='Lithuania')]\n",
    "print(len(df[ (df['home_team']=='Lithuania') & (df['score_diff'] > 0) & (df['country']=='Lithuania')]))\n"
   ]
  },
  {
   "cell_type": "code",
   "execution_count": 26,
   "metadata": {},
   "outputs": [
    {
     "name": "stdout",
     "output_type": "stream",
     "text": [
      "60\n"
     ]
    }
   ],
   "source": [
    "#8. How many matches did Lithuania lose by playing in Lithuania?\n",
    "df[ (df['home_team']=='Lithuania') & (df['score_diff'] < 0) & (df['country']=='Lithuania')]\n",
    "print(len(df[ (df['home_team']=='Lithuania') & (df['score_diff'] < 0) & (df['country']=='Lithuania')]))"
   ]
  },
  {
   "cell_type": "code",
   "execution_count": 27,
   "metadata": {},
   "outputs": [
    {
     "name": "stdout",
     "output_type": "stream",
     "text": [
      "24\n"
     ]
    }
   ],
   "source": [
    "# 9. How many matches did Lithuanians play in a draw at home?\n",
    "df[ (df['home_team']=='Lithuania') & (df['score_diff'] ==  0) & (df['country']=='Lithuania')]\n",
    "print(len(df[ (df['home_team']=='Lithuania') & (df['score_diff'] == 0) & (df['country']=='Lithuania')]))"
   ]
  },
  {
   "cell_type": "code",
   "execution_count": 29,
   "metadata": {},
   "outputs": [
    {
     "name": "stdout",
     "output_type": "stream",
     "text": [
      "42\n"
     ]
    }
   ],
   "source": [
    "#10. How many matches did Lithuanians play in a draw when playing abroad?\n",
    "df[ (df['away_team']=='Lithuania') & (df['score_diff'] == 0)]\n",
    "print(len(df[ (df['away_team']=='Lithuania') & (df['score_diff'] == 0)]))"
   ]
  },
  {
   "cell_type": "code",
   "execution_count": 30,
   "metadata": {},
   "outputs": [
    {
     "data": {
      "text/plain": [
       "date            1979-07-20\n",
       "home_team       Kyrgyzstan\n",
       "away_team        Lithuania\n",
       "home_score               0\n",
       "away_score               0\n",
       "tourniment        Friendly\n",
       "city                Moscow\n",
       "country       Soviet Union\n",
       "score_diff               0\n",
       "Name: 0, dtype: object"
      ]
     },
     "execution_count": 30,
     "metadata": {},
     "output_type": "execute_result"
    }
   ],
   "source": [
    "df.loc[0]"
   ]
  },
  {
   "cell_type": "code",
   "execution_count": 34,
   "metadata": {},
   "outputs": [],
   "source": [
    "df.rename(columns={'tourniment':'tournament'}, inplace = True)\n",
    "df\n",
    "df.to_csv('LT_renamend.csv')"
   ]
  },
  {
   "cell_type": "code",
   "execution_count": null,
   "metadata": {},
   "outputs": [],
   "source": [
    "#How many goals Lithuania scored and suffered in different tournaments when they played abroad?\n",
    "# 1 Filter where LT played abroad\n",
    "# 2 Group by tournament groupby() -- need t specify what action we want to do with the numbers -- sum, avg, mean etc\n",
    "# 3 sum grouped rows\n",
    "# 4 leave only 'home_score','away_score' columns"
   ]
  },
  {
   "cell_type": "code",
   "execution_count": 38,
   "metadata": {},
   "outputs": [
    {
     "data": {
      "text/html": [
       "<div>\n",
       "<style scoped>\n",
       "    .dataframe tbody tr th:only-of-type {\n",
       "        vertical-align: middle;\n",
       "    }\n",
       "\n",
       "    .dataframe tbody tr th {\n",
       "        vertical-align: top;\n",
       "    }\n",
       "\n",
       "    .dataframe thead th {\n",
       "        text-align: right;\n",
       "    }\n",
       "</style>\n",
       "<table border=\"1\" class=\"dataframe\">\n",
       "  <thead>\n",
       "    <tr style=\"text-align: right;\">\n",
       "      <th></th>\n",
       "      <th>home_score</th>\n",
       "      <th>away_score</th>\n",
       "    </tr>\n",
       "    <tr>\n",
       "      <th>tournament</th>\n",
       "      <th></th>\n",
       "      <th></th>\n",
       "    </tr>\n",
       "  </thead>\n",
       "  <tbody>\n",
       "    <tr>\n",
       "      <th>Baltic Cup</th>\n",
       "      <td>43</td>\n",
       "      <td>35</td>\n",
       "    </tr>\n",
       "    <tr>\n",
       "      <th>Cyprus International Tournament</th>\n",
       "      <td>8</td>\n",
       "      <td>6</td>\n",
       "    </tr>\n",
       "    <tr>\n",
       "      <th>FIFA World Cup qualification</th>\n",
       "      <td>80</td>\n",
       "      <td>29</td>\n",
       "    </tr>\n",
       "    <tr>\n",
       "      <th>Friendly</th>\n",
       "      <td>189</td>\n",
       "      <td>67</td>\n",
       "    </tr>\n",
       "    <tr>\n",
       "      <th>Malta International Tournament</th>\n",
       "      <td>1</td>\n",
       "      <td>1</td>\n",
       "    </tr>\n",
       "    <tr>\n",
       "      <th>UEFA Euro qualification</th>\n",
       "      <td>73</td>\n",
       "      <td>29</td>\n",
       "    </tr>\n",
       "    <tr>\n",
       "      <th>UEFA Nations League</th>\n",
       "      <td>18</td>\n",
       "      <td>2</td>\n",
       "    </tr>\n",
       "  </tbody>\n",
       "</table>\n",
       "</div>"
      ],
      "text/plain": [
       "                                 home_score  away_score\n",
       "tournament                                             \n",
       "Baltic Cup                               43          35\n",
       "Cyprus International Tournament           8           6\n",
       "FIFA World Cup qualification             80          29\n",
       "Friendly                                189          67\n",
       "Malta International Tournament            1           1\n",
       "UEFA Euro qualification                  73          29\n",
       "UEFA Nations League                      18           2"
      ]
     },
     "execution_count": 38,
     "metadata": {},
     "output_type": "execute_result"
    }
   ],
   "source": [
    "df[df['away_team'] == 'Lithuania'].groupby('tournament').sum()[['home_score','away_score']]"
   ]
  },
  {
   "cell_type": "markdown",
   "metadata": {},
   "source": [
    "# Matplotlib"
   ]
  },
  {
   "cell_type": "code",
   "execution_count": 39,
   "metadata": {},
   "outputs": [
    {
     "name": "stderr",
     "output_type": "stream",
     "text": [
      "Matplotlib is building the font cache; this may take a moment.\n"
     ]
    }
   ],
   "source": [
    "import matplotlib.pyplot as plt"
   ]
  },
  {
   "cell_type": "code",
   "execution_count": 55,
   "metadata": {},
   "outputs": [
    {
     "name": "stdout",
     "output_type": "stream",
     "text": [
      "[ 0  1  2  3  4  5  6  7  8  9 10 11 12 13 14 15 16 17 18 19 20 21 22 23\n",
      " 24 25 26 27 28 29 30 31 32 33 34 35 36 37 38 39 40 41 42 43 44 45 46 47\n",
      " 48 49 50 51 52 53 54 55 56 57 58 59 60 61 62 63 64 65 66 67 68 69 70 71\n",
      " 72 73 74 75 76 77 78 79 80 81 82 83 84 85 86 87 88 89 90 91 92 93 94 95\n",
      " 96 97 98 99]\n"
     ]
    }
   ],
   "source": [
    "import numpy as np\n",
    "data = np.arange(100)\n",
    "print(data)\n",
    "data_y = data * 2\n",
    "data_z = data ** 2"
   ]
  },
  {
   "cell_type": "code",
   "execution_count": 54,
   "metadata": {},
   "outputs": [
    {
     "data": {
      "text/plain": [
       "(0.0, 200.0)"
      ]
     },
     "execution_count": 54,
     "metadata": {},
     "output_type": "execute_result"
    },
    {
     "data": {
      "image/png": "[encoded data removed]",
      "text/plain": [
       "<Figure size 432x288 with 1 Axes>"
      ]
     },
     "metadata": {
      "needs_background": "light"
     },
     "output_type": "display_data"
    }
   ],
   "source": [
    "#create a figure\n",
    "fig = plt.figure()\n",
    "ax = fig.add_axes(rect = [0,0,1,1]) #rect = [x_start, y_start, width, height]\n",
    "ax.plot(data,data_y)\n",
    "ax.set_xlabel('x value', loc='right')\n",
    "ax.set_ylabel('y value')\n",
    "ax.set_title('Our title')\n",
    "ax.set_xlim(0,200)"
   ]
  },
  {
   "cell_type": "code",
   "execution_count": 60,
   "metadata": {},
   "outputs": [
    {
     "data": {
      "text/plain": [
       "(50.0, 60.0)"
      ]
     },
     "execution_count": 60,
     "metadata": {},
     "output_type": "execute_result"
    },
    {
     "data": {
      "image/png": "[encoded data removed]",
      "text/plain": [
       "<Figure size 432x288 with 2 Axes>"
      ]
     },
     "metadata": {
      "needs_background": "light"
     },
     "output_type": "display_data"
    }
   ],
   "source": [
    "fig = plt.figure()\n",
    "ax = fig.add_axes( rect =[0,0,1,1])\n",
    "ax.plot (data, data_z)\n",
    "ax_2 = fig.add_axes(rect =[0.15,0.6,0.3,0.3])\n",
    "ax_2.plot(data,data_z)\n",
    "ax_2.set_xlim(50,60)"
   ]
  },
  {
   "cell_type": "code",
   "execution_count": null,
   "metadata": {},
   "outputs": [],
   "source": []
  }
 ],
 "metadata": {
  "interpreter": {
   "hash": "b1c97f7bc89565293a07588d9fca0428c84db0528dfcd478043cefefc018889a"
  },
  "kernelspec": {
   "display_name": "Python 3.10.0 64-bit",
   "language": "python",
   "name": "python3"
  },
  "language_info": {
   "codemirror_mode": {
    "name": "ipython",
    "version": 3
   },
   "file_extension": ".py",
   "mimetype": "text/x-python",
   "name": "python",
   "nbconvert_exporter": "python",
   "pygments_lexer": "ipython3",
   "version": "3.10.0"
  },
  "orig_nbformat": 4
 },
 "nbformat": 4,
 "nbformat_minor": 2
}
