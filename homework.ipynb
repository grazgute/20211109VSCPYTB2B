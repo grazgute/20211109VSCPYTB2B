{
 "cells": [
  {
   "cell_type": "markdown",
   "metadata": {},
   "source": [
    "# Homework on lists, tuple, for loop"
   ]
  },
  {
   "cell_type": "markdown",
   "metadata": {},
   "source": [
    "# Homework for Dictionary, sets\n"
   ]
  },
  {
   "cell_type": "code",
   "execution_count": 47,
   "metadata": {},
   "outputs": [
    {
     "name": "stdout",
     "output_type": "stream",
     "text": [
      "1\n"
     ]
    }
   ],
   "source": [
    "words = ['phone', 'nest', 'quarter', 'dashing', 'breath', 'evanescent', 'destruction', 'hollow', 'horse', 'aviva']\n",
    "#print(type(words))\n",
    "#print(len(words))\n",
    "filtered_words = [words for words in words if len(words) > 10]\n",
    "print(len(filtered_words))\n"
   ]
  },
  {
   "cell_type": "code",
   "execution_count": 46,
   "metadata": {},
   "outputs": [
    {
     "name": "stdout",
     "output_type": "stream",
     "text": [
      "The shortest word is: nest\n",
      "The longest word is: destruction\n"
     ]
    }
   ],
   "source": [
    "shortest = min(words, key=len)\n",
    "print(f'The shortest word is:',shortest)\n",
    "longest = max(words, key=len)\n",
    "print(f'The longest word is:', longest)"
   ]
  },
  {
   "cell_type": "code",
   "execution_count": 53,
   "metadata": {},
   "outputs": [
    {
     "ename": "SyntaxError",
     "evalue": "invalid syntax (Temp/ipykernel_8560/175643692.py, line 1)",
     "output_type": "error",
     "traceback": [
      "\u001b[1;36m  File \u001b[1;32m\"C:\\Users\\grazg\\AppData\\Local\\Temp/ipykernel_8560/175643692.py\"\u001b[1;36m, line \u001b[1;32m1\u001b[0m\n\u001b[1;33m    reverse_words = words([::-1])\u001b[0m\n\u001b[1;37m                           ^\u001b[0m\n\u001b[1;31mSyntaxError\u001b[0m\u001b[1;31m:\u001b[0m invalid syntax\n"
     ]
    }
   ],
   "source": [
    "reverse_words = words([::-1])\n",
    "print (reverse_words)"
   ]
  },
  {
   "cell_type": "code",
   "execution_count": 54,
   "metadata": {},
   "outputs": [
    {
     "name": "stdout",
     "output_type": "stream",
     "text": [
      "[3, 6, -2, -5, 7, 3]\n"
     ]
    }
   ],
   "source": [
    "my_list = [3, 6, -2, -5, 7, 3]\n",
    "print(my_list)"
   ]
  },
  {
   "cell_type": "code",
   "execution_count": 55,
   "metadata": {},
   "outputs": [
    {
     "name": "stdout",
     "output_type": "stream",
     "text": [
      "9\n"
     ]
    }
   ],
   "source": [
    "if my_list[0] + my_list[1] >= my_list[1] + my_list[2]:\n",
    "    print(my_list[0] + my_list[1])\n",
    "    if my_list[1] + my_list[2]"
   ]
  },
  {
   "cell_type": "code",
   "execution_count": 68,
   "metadata": {},
   "outputs": [
    {
     "name": "stdout",
     "output_type": "stream",
     "text": [
      "3\n",
      "8\n",
      "9\n",
      "15\n",
      "3\n",
      "8\n",
      "9\n",
      "15\n"
     ]
    }
   ],
   "source": [
    "a = [1,2,3,4,5,6,7,8,9,15]\n",
    "b = [3,8,9,11,15]\n",
    "c = a + b\n",
    "for duplicates in c:\n",
    "    if c.count(duplicates) > 1:\n",
    "        print (duplicates)\n"
   ]
  },
  {
   "cell_type": "code",
   "execution_count": 79,
   "metadata": {},
   "outputs": [
    {
     "name": "stdout",
     "output_type": "stream",
     "text": [
      "{800, 1, 2, 900, 5, 8, 10, 12, 14}\n"
     ]
    }
   ],
   "source": [
    "list = [1, 5, 1, 2, 8, -9, 10, 1, -8, -900, 14, 5, -8, 2, 1, -20, 900, 800, -6, -8, 12, 1] \n",
    "positive_list = (x for x in list if x >= 0)\n",
    "print(set(positive_list))"
   ]
  },
  {
   "cell_type": "code",
   "execution_count": 98,
   "metadata": {},
   "outputs": [
    {
     "name": "stdout",
     "output_type": "stream",
     "text": [
      "14796.0\n"
     ]
    }
   ],
   "source": [
    "x = { \"cost_price\": 32.67, \n",
    "         'sell_price': 45.00,      \n",
    "          'inventory': 1200  }\n",
    "print(round((x['sell_price'] - x['cost_price']) * x['inventory'],2))\n"
   ]
  },
  {
   "cell_type": "code",
   "execution_count": null,
   "metadata": {},
   "outputs": [],
   "source": []
  }
 ],
 "metadata": {
  "interpreter": {
   "hash": "b1c97f7bc89565293a07588d9fca0428c84db0528dfcd478043cefefc018889a"
  },
  "kernelspec": {
   "display_name": "Python 3.10.0 64-bit",
   "language": "python",
   "name": "python3"
  },
  "language_info": {
   "codemirror_mode": {
    "name": "ipython",
    "version": 3
   },
   "file_extension": ".py",
   "mimetype": "text/x-python",
   "name": "python",
   "nbconvert_exporter": "python",
   "pygments_lexer": "ipython3",
   "version": "3.10.0"
  },
  "orig_nbformat": 4
 },
 "nbformat": 4,
 "nbformat_minor": 2
}
