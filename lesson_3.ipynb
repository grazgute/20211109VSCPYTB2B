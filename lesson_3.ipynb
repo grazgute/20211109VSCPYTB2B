{
 "cells": [
  {
   "cell_type": "code",
   "execution_count": 2,
   "metadata": {},
   "outputs": [],
   "source": [
    "my_int = 6\n",
    "my_float = 6.\n"
   ]
  },
  {
   "cell_type": "code",
   "execution_count": 4,
   "metadata": {},
   "outputs": [
    {
     "name": "stdout",
     "output_type": "stream",
     "text": [
      "<class 'int'>\n"
     ]
    },
    {
     "data": {
      "text/plain": [
       "float"
      ]
     },
     "execution_count": 4,
     "metadata": {},
     "output_type": "execute_result"
    }
   ],
   "source": [
    "print(type(my_int))\n",
    "type(my_float)"
   ]
  },
  {
   "cell_type": "code",
   "execution_count": 5,
   "metadata": {},
   "outputs": [
    {
     "data": {
      "text/plain": [
       "12"
      ]
     },
     "execution_count": 5,
     "metadata": {},
     "output_type": "execute_result"
    }
   ],
   "source": [
    "3+9\n"
   ]
  },
  {
   "cell_type": "code",
   "execution_count": 6,
   "metadata": {},
   "outputs": [
    {
     "data": {
      "text/plain": [
       "6.0"
      ]
     },
     "execution_count": 6,
     "metadata": {},
     "output_type": "execute_result"
    }
   ],
   "source": [
    "3+3."
   ]
  },
  {
   "cell_type": "markdown",
   "metadata": {},
   "source": [
    "##Operator"
   ]
  },
  {
   "cell_type": "code",
   "execution_count": 9,
   "metadata": {},
   "outputs": [
    {
     "name": "stdout",
     "output_type": "stream",
     "text": [
      "19683\n",
      "9\n",
      "1.0\n",
      "0.3333333333333333\n",
      "4\n",
      "3\n",
      "3.6666666666666665\n"
     ]
    }
   ],
   "source": [
    "print(3 ** 9)\n",
    "print(3 ** 2)\n",
    "print(3/3)\n",
    "print(3/9)\n",
    "print(9//2)\n",
    "print (11//3) # this shows how many 3 is fitting into 11\n",
    "print(11/3)"
   ]
  },
  {
   "cell_type": "code",
   "execution_count": 13,
   "metadata": {},
   "outputs": [
    {
     "data": {
      "text/plain": [
       "4"
      ]
     },
     "execution_count": 13,
     "metadata": {},
     "output_type": "execute_result"
    }
   ],
   "source": [
    "4 % 5 # shows a number which cannot be divided by the second number\n"
   ]
  },
  {
   "cell_type": "code",
   "execution_count": 12,
   "metadata": {},
   "outputs": [
    {
     "data": {
      "text/plain": [
       "1"
      ]
     },
     "execution_count": 12,
     "metadata": {},
     "output_type": "execute_result"
    }
   ],
   "source": [
    "6 % 5\n"
   ]
  },
  {
   "cell_type": "code",
   "execution_count": 15,
   "metadata": {},
   "outputs": [
    {
     "name": "stdout",
     "output_type": "stream",
     "text": [
      "even 0\n",
      "uneven 1\n"
     ]
    }
   ],
   "source": [
    "print('even', 1465556 % 2)\n",
    "print( 'uneven',1465557 % 2)"
   ]
  },
  {
   "cell_type": "code",
   "execution_count": 16,
   "metadata": {},
   "outputs": [
    {
     "data": {
      "text/plain": [
       "1.5"
      ]
     },
     "execution_count": 16,
     "metadata": {},
     "output_type": "execute_result"
    }
   ],
   "source": [
    "5.5 % 2"
   ]
  },
  {
   "cell_type": "code",
   "execution_count": 24,
   "metadata": {},
   "outputs": [
    {
     "name": "stdout",
     "output_type": "stream",
     "text": [
      "sum 16\n"
     ]
    }
   ],
   "source": [
    "my_int_1 = 13\n",
    "my_int_2 =3\n",
    "print(f'sum {my_int_1 + my_int_2}')"
   ]
  },
  {
   "cell_type": "code",
   "execution_count": 29,
   "metadata": {},
   "outputs": [
    {
     "name": "stdout",
     "output_type": "stream",
     "text": [
      "sum: 16.5598498\n",
      "subtract: 10.2798498\n",
      "multiply: 42.138328372000004\n",
      "power of: 3476.3831555637157\n",
      "Divide: 4.273837515923566\n",
      "Modulus: 0.8598497999999992\n"
     ]
    }
   ],
   "source": [
    "my_float_1 = 13.4198498\n",
    "my_float_2 = 3.14\n",
    "print (f'sum: {my_float_1 + my_float_2}')\n",
    "print (f'subtract: {my_float_1 - my_float_2}')\n",
    "print (f'multiply: {my_float_1 * my_float_2}')\n",
    "print (f'power of: {my_float_1 ** my_float_2}')\n",
    "print (f'Divide: {my_float_1 / my_float_2}')\n",
    "print (f'Modulus: {my_float_1 % my_float_2}')\n"
   ]
  },
  {
   "cell_type": "code",
   "execution_count": 25,
   "metadata": {},
   "outputs": [
    {
     "data": {
      "text/plain": [
       "390.625"
      ]
     },
     "execution_count": 25,
     "metadata": {},
     "output_type": "execute_result"
    }
   ],
   "source": [
    "dist_moon = 38400\n",
    "dist_sun = 15000000\n",
    "dist_sun/dist_moon"
   ]
  },
  {
   "cell_type": "code",
   "execution_count": 27,
   "metadata": {},
   "outputs": [
    {
     "name": "stdout",
     "output_type": "stream",
     "text": [
      "hours to the moon 256.0\n",
      "days to the moon 10.666666666666666\n",
      "hours to the moon 0.3555555555555555\n"
     ]
    }
   ],
   "source": [
    "speed = 150\n",
    "print (f'hours to the moon {dist_moon/speed}')\n",
    "print (f'days to the moon {dist_moon/speed/24}')\n",
    "print (f'months to the moon {dist_moon/speed/24/30}')"
   ]
  },
  {
   "cell_type": "code",
   "execution_count": 28,
   "metadata": {},
   "outputs": [
    {
     "name": "stdout",
     "output_type": "stream",
     "text": [
      "seconds to the moon 921600.0\n",
      "hours to the moon 256.0\n",
      "days to the moon 10.666666666666666\n",
      "months to the moon 0.3555555555555555\n",
      "years to the moon 0.029629629629629627\n"
     ]
    }
   ],
   "source": [
    "speed = 150\n",
    "print (f'seconds to the moon {dist_moon/speed*3600}')\n",
    "print (f'hours to the moon {dist_moon/speed}')\n",
    "print (f'days to the moon {dist_moon/speed/24}')\n",
    "print (f'months to the moon {dist_moon/speed/24/30}')\n",
    "print (f'years to the moon {dist_moon/speed/24/30/12}')\n"
   ]
  },
  {
   "cell_type": "code",
   "execution_count": 34,
   "metadata": {},
   "outputs": [
    {
     "name": "stdout",
     "output_type": "stream",
     "text": [
      "2021-11-16 10:53:36.006320\n",
      "We would reach the moon on 2021-11-27 02:53:36.008319\n"
     ]
    }
   ],
   "source": [
    "import datetime\n",
    "print(datetime.datetime.now())\n",
    "my_birthday = datetime.date (1986,5,4)\n",
    "datetime.datetime.now().date() - my_birthday\n",
    "delta = datetime.timedelta(seconds=dist_moon/speed*3600)\n",
    "print (f'We would reach the moon on {datetime.datetime.now() + delta}')\n"
   ]
  },
  {
   "cell_type": "code",
   "execution_count": 35,
   "metadata": {},
   "outputs": [],
   "source": [
    "#timedelta means difference"
   ]
  },
  {
   "cell_type": "code",
   "execution_count": 37,
   "metadata": {},
   "outputs": [
    {
     "name": "stdout",
     "output_type": "stream",
     "text": [
      "False\n",
      "<class 'bool'>\n"
     ]
    }
   ],
   "source": [
    "my_bool = 1 > 2\n",
    "print(my_bool)\n",
    "print(type(my_bool)) "
   ]
  },
  {
   "cell_type": "code",
   "execution_count": 40,
   "metadata": {},
   "outputs": [
    {
     "name": "stdout",
     "output_type": "stream",
     "text": [
      "my_int is even True\n"
     ]
    }
   ],
   "source": [
    "my_bool_2 = True\n",
    "my_bool_3 = False\n",
    "#bad_my_bool_4 = true\n",
    "is_even = my_int % 2 == 0\n",
    "print(f'my_int is even {is_even}')"
   ]
  },
  {
   "cell_type": "markdown",
   "metadata": {},
   "source": [
    "## Comparison operators"
   ]
  },
  {
   "cell_type": "code",
   "execution_count": 44,
   "metadata": {},
   "outputs": [
    {
     "name": "stdout",
     "output_type": "stream",
     "text": [
      "equal to operator ==: True\n",
      "equal to operator ==: False\n",
      "not equal to operator ==: False\n",
      "not equal to operator ==: True\n",
      "more to operator >: False\n",
      "more to operator >=: False\n",
      "less to operator <: True\n",
      "less to operator <=: True\n"
     ]
    }
   ],
   "source": [
    "print(f'equal to operator ==: {1 == 1}')\n",
    "print(f'equal to operator ==: {1 == 10}')\n",
    "print(f'not equal to operator ==: {1 != 1}')\n",
    "print(f'not equal to operator ==: {1 != 10}')\n",
    "print(f'more to operator >: {1 > 10}')\n",
    "print(f'more to operator >=: {1 >= 10}')\n",
    "print(f'less to operator <: {1 < 10}')\n",
    "print(f'less to operator <=: {1 <= 10}')"
   ]
  },
  {
   "cell_type": "code",
   "execution_count": 47,
   "metadata": {},
   "outputs": [
    {
     "data": {
      "text/plain": [
       "True"
      ]
     },
     "execution_count": 47,
     "metadata": {},
     "output_type": "execute_result"
    }
   ],
   "source": [
    "#True and Trues\n",
    "10 > 2 and 2 < 5"
   ]
  },
  {
   "cell_type": "code",
   "execution_count": 48,
   "metadata": {},
   "outputs": [
    {
     "data": {
      "text/plain": [
       "False"
      ]
     },
     "execution_count": 48,
     "metadata": {},
     "output_type": "execute_result"
    }
   ],
   "source": [
    "#True and False\n",
    "10 > 2 and 2 > 5"
   ]
  },
  {
   "cell_type": "code",
   "execution_count": 50,
   "metadata": {},
   "outputs": [
    {
     "data": {
      "text/plain": [
       "True"
      ]
     },
     "execution_count": 50,
     "metadata": {},
     "output_type": "execute_result"
    }
   ],
   "source": [
    "#True or False\n",
    "10 > 2 or 2 > 5"
   ]
  },
  {
   "cell_type": "code",
   "execution_count": 51,
   "metadata": {},
   "outputs": [
    {
     "data": {
      "text/plain": [
       "False"
      ]
     },
     "execution_count": 51,
     "metadata": {},
     "output_type": "execute_result"
    }
   ],
   "source": [
    "#False or False\n",
    "10 < 2 or 2 > 5"
   ]
  },
  {
   "cell_type": "code",
   "execution_count": 52,
   "metadata": {},
   "outputs": [
    {
     "data": {
      "text/plain": [
       "True"
      ]
     },
     "execution_count": 52,
     "metadata": {},
     "output_type": "execute_result"
    }
   ],
   "source": [
    "True and 10 > 5 and 10 % 2 == 0 or False"
   ]
  },
  {
   "cell_type": "code",
   "execution_count": 53,
   "metadata": {},
   "outputs": [
    {
     "data": {
      "text/plain": [
       "True"
      ]
     },
     "execution_count": 53,
     "metadata": {},
     "output_type": "execute_result"
    }
   ],
   "source": [
    "True and 10 > 5 and 10 % 2 == 0 or False\n",
    "# <-- True ---> and <-- True -> or \n",
    "# <-- True ------------ True -> or\n"
   ]
  },
  {
   "cell_type": "code",
   "execution_count": 54,
   "metadata": {},
   "outputs": [
    {
     "data": {
      "text/plain": [
       "False"
      ]
     },
     "execution_count": 54,
     "metadata": {},
     "output_type": "execute_result"
    }
   ],
   "source": [
    "True and 10 > 5 and 11 % 2 == 0 or False\n",
    "# <-- True ---> and <-- False -> or \n",
    "# <-- True ------------ False -> or"
   ]
  },
  {
   "cell_type": "code",
   "execution_count": 57,
   "metadata": {},
   "outputs": [
    {
     "name": "stdout",
     "output_type": "stream",
     "text": [
      "True\n",
      "False\n",
      "True\n"
     ]
    }
   ],
   "source": [
    "print(bool('Some text'))\n",
    "print(bool(''))\n",
    "print(bool(' '))"
   ]
  },
  {
   "cell_type": "code",
   "execution_count": 59,
   "metadata": {},
   "outputs": [
    {
     "name": "stdout",
     "output_type": "stream",
     "text": [
      "True\n",
      "False\n",
      "True\n",
      "True\n"
     ]
    }
   ],
   "source": [
    "print (bool(5) ) \n",
    "print (bool(0) ) \n",
    "print (bool(1) ) \n",
    "print (bool(-1) )\n"
   ]
  },
  {
   "cell_type": "code",
   "execution_count": 61,
   "metadata": {},
   "outputs": [
    {
     "name": "stdout",
     "output_type": "stream",
     "text": [
      "True\n",
      "False\n",
      "True\n",
      "True\n",
      "True\n"
     ]
    }
   ],
   "source": [
    "print (bool(5.0) ) \n",
    "print (bool(0.0) ) \n",
    "print (bool(1.0) ) \n",
    "print (bool(-1.0) )\n",
    "print (bool(0.5) )"
   ]
  },
  {
   "cell_type": "code",
   "execution_count": 62,
   "metadata": {},
   "outputs": [
    {
     "data": {
      "text/plain": [
       "False"
      ]
     },
     "execution_count": 62,
     "metadata": {},
     "output_type": "execute_result"
    }
   ],
   "source": [
    "not 5 > 2"
   ]
  },
  {
   "cell_type": "code",
   "execution_count": 63,
   "metadata": {},
   "outputs": [
    {
     "name": "stdout",
     "output_type": "stream",
     "text": [
      "False\n",
      "False\n"
     ]
    }
   ],
   "source": [
    "not_even = not 10 % 2 == 0\n",
    "print (not_even)\n",
    "not_even_2 = 10 % 2 != 0\n",
    "print (not_even_2)"
   ]
  },
  {
   "cell_type": "code",
   "execution_count": 66,
   "metadata": {},
   "outputs": [
    {
     "name": "stdout",
     "output_type": "stream",
     "text": [
      "12\n"
     ]
    }
   ],
   "source": [
    "# sum = 0\n",
    "# sum = sum + 5\n",
    "# sum = sum + 10\n",
    "# sum = sum - 3\n",
    "# print (sum)\n",
    "\n",
    "sum = 0\n",
    "sum += 5\n",
    "sum += 10\n",
    "sum -= 3\n",
    "print (sum)\n"
   ]
  },
  {
   "cell_type": "code",
   "execution_count": 67,
   "metadata": {},
   "outputs": [
    {
     "name": "stdout",
     "output_type": "stream",
     "text": [
      "1000\n"
     ]
    }
   ],
   "source": [
    "multiply = 1\n",
    "multiply *= 10\n",
    "multiply *= 10\n",
    "multiply *= 10\n",
    "print(multiply)"
   ]
  },
  {
   "cell_type": "markdown",
   "metadata": {},
   "source": [
    "## Membership operator"
   ]
  },
  {
   "cell_type": "code",
   "execution_count": 69,
   "metadata": {},
   "outputs": [
    {
     "data": {
      "text/plain": [
       "True"
      ]
     },
     "execution_count": 69,
     "metadata": {},
     "output_type": "execute_result"
    }
   ],
   "source": [
    "text = 'Hello world'\n",
    "'world' in text"
   ]
  },
  {
   "cell_type": "code",
   "execution_count": 70,
   "metadata": {},
   "outputs": [
    {
     "name": "stdout",
     "output_type": "stream",
     "text": [
      "True\n"
     ]
    }
   ],
   "source": [
    "text = 'Hello world'\n",
    "print ('world' in text)"
   ]
  },
  {
   "cell_type": "code",
   "execution_count": 71,
   "metadata": {},
   "outputs": [
    {
     "data": {
      "text/plain": [
       "False"
      ]
     },
     "execution_count": 71,
     "metadata": {},
     "output_type": "execute_result"
    }
   ],
   "source": [
    "'a' in 'Hello'"
   ]
  },
  {
   "cell_type": "markdown",
   "metadata": {},
   "source": [
    "## Lists"
   ]
  },
  {
   "cell_type": "code",
   "execution_count": 72,
   "metadata": {},
   "outputs": [],
   "source": [
    "my_list = [1, 5, 10, 15]\n"
   ]
  },
  {
   "cell_type": "code",
   "execution_count": 73,
   "metadata": {},
   "outputs": [
    {
     "data": {
      "text/plain": [
       "4"
      ]
     },
     "execution_count": 73,
     "metadata": {},
     "output_type": "execute_result"
    }
   ],
   "source": [
    "len(my_list)"
   ]
  },
  {
   "cell_type": "code",
   "execution_count": 76,
   "metadata": {},
   "outputs": [
    {
     "name": "stdout",
     "output_type": "stream",
     "text": [
      "lenght: 4\n",
      "1st: 1\n",
      "slice: [10, 15]\n"
     ]
    }
   ],
   "source": [
    "print('lenght:', len(my_list))\n",
    "print('1st:', my_list[0])\n",
    "print ('slice:', my_list[2:])"
   ]
  },
  {
   "cell_type": "code",
   "execution_count": 79,
   "metadata": {},
   "outputs": [
    {
     "name": "stdout",
     "output_type": "stream",
     "text": [
      "[1, 1, 2, 2, 'Gabriele', 'Vilnius', True, False]\n"
     ]
    }
   ],
   "source": [
    "my_list_2 = [1, 1, 2, 2, 'Gabriele', 'Vilnius', True, 1>10]\n",
    "print (my_list_2)"
   ]
  },
  {
   "cell_type": "code",
   "execution_count": 85,
   "metadata": {},
   "outputs": [
    {
     "name": "stdout",
     "output_type": "stream",
     "text": [
      "[1, 5, 1, 1498, 10, 15, 54]\n",
      "[1, 1, 5, 10, 15, 54, 1498]\n",
      "[1498, 54, 15, 10, 5, 1, 1]\n"
     ]
    }
   ],
   "source": [
    "my_list_3 = [1, 5, 1, 1498, 10, 15, 54]\n",
    "print(my_list_3)\n",
    "# print(my_list_3.sort()) # returns None, don't try to print it\n",
    "my_list_3.sort()\n",
    "print(my_list_3)\n",
    "my_list_3.sort(reverse=True)\n",
    "print(my_list_3)"
   ]
  },
  {
   "cell_type": "code",
   "execution_count": 3,
   "metadata": {},
   "outputs": [
    {
     "data": {
      "text/plain": [
       "[1, 2, 3, 'a', 'b', 'c']"
      ]
     },
     "execution_count": 3,
     "metadata": {},
     "output_type": "execute_result"
    }
   ],
   "source": [
    "[1,2,3]+['a','b','c']\n"
   ]
  },
  {
   "cell_type": "code",
   "execution_count": 5,
   "metadata": {},
   "outputs": [
    {
     "name": "stdout",
     "output_type": "stream",
     "text": [
      "[1, 2, 3]\n",
      "[1, 2, 3, 5, 'abs', [10, 100, 1000]]\n",
      "[1, 2, 3, 5, 'abs', [10, 100, 1000], 'a', 'b', 's', 156, 10, 100, 1000]\n",
      "1000\n",
      "[1, 2, 3, 5, 'abs', [10, 100, 1000], 'a', 'b', 's', 156, 10, 100]\n",
      "100\n",
      "[1, 2, 3, 5, 'abs', [10, 100, 1000], 'a', 'b', 's', 156, 10]\n",
      "1\n",
      "[2, 3, 5, 'abs', [10, 100, 1000], 'a', 'b', 's', 156, 10]\n"
     ]
    }
   ],
   "source": [
    "my_list = [1,2,3]\n",
    "print (my_list)\n",
    "my_list.append(5)\n",
    "my_list.append('abs')\n",
    "my_list.append( [10,100,1000] )\n",
    "print (my_list)\n",
    "my_list.extend('abs')\n",
    "my_list.extend([156])\n",
    "my_list.extend( [10,100,1000] )\n",
    "print (my_list)\n",
    "poped_value = my_list.pop()\n",
    "print (poped_value)\n",
    "print (my_list)\n",
    "poped_value = my_list.pop()\n",
    "print (poped_value)\n",
    "print (my_list)\n",
    "poped_value = my_list.pop(0)\n",
    "print (poped_value)\n",
    "print (my_list)\n"
   ]
  },
  {
   "cell_type": "code",
   "execution_count": 6,
   "metadata": {},
   "outputs": [
    {
     "name": "stdout",
     "output_type": "stream",
     "text": [
      "[2, 3, 5, 'abs', [10, 100, 1000], 'a', 'b', 's', 156, 10]\n",
      "[2, 3, 5, 'new_text', 'abs', [10, 100, 1000], 'a', 'b', 's', 156, 10]\n"
     ]
    }
   ],
   "source": [
    "print (my_list)\n",
    "my_list.insert(3, \"new_text\")\n",
    "print (my_list)\n"
   ]
  },
  {
   "cell_type": "code",
   "execution_count": 7,
   "metadata": {},
   "outputs": [
    {
     "name": "stdout",
     "output_type": "stream",
     "text": [
      "[2, 3, 5, 'new_text', 'abs', [10, 100, 1000], 'a', 'b', 's', 156, 10]\n",
      "[2, 3, 5, 'new_text', 'abs', [10, 100, 1000], 'b', 's', 156, 10]\n"
     ]
    }
   ],
   "source": [
    "print (my_list)\n",
    "my_list.remove('a') # will through an error if does not exist\n",
    "print (my_list)\n"
   ]
  },
  {
   "cell_type": "code",
   "execution_count": 8,
   "metadata": {},
   "outputs": [
    {
     "name": "stdout",
     "output_type": "stream",
     "text": [
      "[2, 3, 5, 'new_text', 'abs', [10, 100, 1000], 'b', 's', 156, 10]\n",
      "0\n",
      "2\n"
     ]
    },
    {
     "ename": "ValueError",
     "evalue": "15419 is not in list",
     "output_type": "error",
     "traceback": [
      "\u001b[1;31m---------------------------------------------------------------------------\u001b[0m",
      "\u001b[1;31mValueError\u001b[0m                                Traceback (most recent call last)",
      "\u001b[1;32m~\\AppData\\Local\\Temp/ipykernel_10780/3889115631.py\u001b[0m in \u001b[0;36m<module>\u001b[1;34m\u001b[0m\n\u001b[0;32m      3\u001b[0m \u001b[0mprint\u001b[0m \u001b[1;33m(\u001b[0m\u001b[0mindex_10\u001b[0m \u001b[1;33m)\u001b[0m\u001b[1;33m\u001b[0m\u001b[1;33m\u001b[0m\u001b[0m\n\u001b[0;32m      4\u001b[0m \u001b[0mprint\u001b[0m \u001b[1;33m(\u001b[0m\u001b[0mmy_list\u001b[0m\u001b[1;33m[\u001b[0m\u001b[0mindex_10\u001b[0m\u001b[1;33m]\u001b[0m \u001b[1;33m)\u001b[0m\u001b[1;33m\u001b[0m\u001b[1;33m\u001b[0m\u001b[0m\n\u001b[1;32m----> 5\u001b[1;33m \u001b[0mmy_list\u001b[0m\u001b[1;33m.\u001b[0m\u001b[0mindex\u001b[0m\u001b[1;33m(\u001b[0m\u001b[1;36m15419\u001b[0m\u001b[1;33m)\u001b[0m\u001b[1;33m\u001b[0m\u001b[1;33m\u001b[0m\u001b[0m\n\u001b[0m",
      "\u001b[1;31mValueError\u001b[0m: 15419 is not in list"
     ]
    }
   ],
   "source": [
    "print (my_list)\n",
    "index_10 = my_list.index(2) \n",
    "print (index_10 )\n",
    "print (my_list[index_10] )\n",
    "my_list.index(15419)\n"
   ]
  },
  {
   "cell_type": "code",
   "execution_count": 9,
   "metadata": {},
   "outputs": [
    {
     "name": "stdout",
     "output_type": "stream",
     "text": [
      "5\n",
      "[10, 100, 1000]\n"
     ]
    }
   ],
   "source": [
    "index_10 = my_list.index([10, 100, 1000]) \n",
    "print (index_10 )\n",
    "print (my_list[index_10] )\n"
   ]
  },
  {
   "cell_type": "code",
   "execution_count": 10,
   "metadata": {},
   "outputs": [
    {
     "name": "stdout",
     "output_type": "stream",
     "text": [
      "[2, 3, 5, 'new_text', 'abs', [10, 100, 1000], 'b', 's', 156, 10, 5, 5, 5, 5]\n"
     ]
    },
    {
     "data": {
      "text/plain": [
       "5"
      ]
     },
     "execution_count": 10,
     "metadata": {},
     "output_type": "execute_result"
    }
   ],
   "source": [
    "my_list.extend([5,5,5,5])\n",
    "\n",
    "print(my_list)\n",
    "my_list.count(5)"
   ]
  },
  {
   "cell_type": "code",
   "execution_count": 9,
   "metadata": {},
   "outputs": [
    {
     "name": "stdout",
     "output_type": "stream",
     "text": [
      "[5, 5, 5, 5, 10, 156, 's', 'b', [10, 100, 1000], 'abs', 'new_text', 5, 3, 2]\n"
     ]
    }
   ],
   "source": [
    "my_list.reverse()\n",
    "print(my_list)"
   ]
  },
  {
   "cell_type": "markdown",
   "metadata": {},
   "source": [
    "## Mutable vs immutable\n"
   ]
  },
  {
   "cell_type": "code",
   "execution_count": 11,
   "metadata": {},
   "outputs": [
    {
     "name": "stdout",
     "output_type": "stream",
     "text": [
      "1\n",
      "2\n",
      "1966545436912\n",
      "1966545436944\n"
     ]
    }
   ],
   "source": [
    "#immutable\n",
    "a =1\n",
    "b =a\n",
    "b += 1\n",
    "print(a)\n",
    "print(b)\n",
    "print(id(a))\n",
    "print(id(b))"
   ]
  },
  {
   "cell_type": "code",
   "execution_count": 13,
   "metadata": {},
   "outputs": [
    {
     "name": "stdout",
     "output_type": "stream",
     "text": [
      "[1, 2, 3, 100]\n",
      "[1, 2, 3, 100]\n",
      "1966625491008\n",
      "1966625491008\n"
     ]
    }
   ],
   "source": [
    "#mutable\n",
    "list_1 = [1,2,3]\n",
    "list_2 = list_1\n",
    "list_2.append(100)\n",
    "print(list_1)\n",
    "print(list_2)\n",
    "print(id(list_1))\n",
    "print(id(list_2))"
   ]
  },
  {
   "cell_type": "code",
   "execution_count": 14,
   "metadata": {},
   "outputs": [
    {
     "name": "stdout",
     "output_type": "stream",
     "text": [
      "[1, 2, 3]\n",
      "[1, 2, 3, 100]\n",
      "1966632613376\n",
      "1966625861952\n"
     ]
    }
   ],
   "source": [
    "#Fixing muatbility\n",
    "list_1 = [1,2,3]\n",
    "list_2 = list_1.copy()\n",
    "list_2.append(100)\n",
    "print(list_1)\n",
    "print(list_2)\n",
    "print(id(list_1))\n",
    "print(id(list_2))"
   ]
  },
  {
   "cell_type": "code",
   "execution_count": 16,
   "metadata": {},
   "outputs": [
    {
     "name": "stdout",
     "output_type": "stream",
     "text": [
      "[1, 2, [1, 0, 100, 100]]\n",
      "[1, 2, [1, 0, 100, 100]]\n",
      "1966625861952\n",
      "1966625863488\n",
      "1966625863488\n",
      "1966655845184\n"
     ]
    }
   ],
   "source": [
    "# Fixing mutability (Solution 1)\n",
    "# list_1 = [1,2,3]\n",
    "list_1 = [1,2,[1,0,100] ]\n",
    "list_2 = list_1.copy()\n",
    "# list_2.append(100)\n",
    "list_2[2].append(100)\n",
    "print(list_1)\n",
    "print(list_2)\n",
    "print( id(list_1) )\n",
    "print( id(list_1[2]) )\n",
    "print( id(list_2[2]) )\n",
    "print( id(list_2) )\n"
   ]
  },
  {
   "cell_type": "code",
   "execution_count": 18,
   "metadata": {},
   "outputs": [
    {
     "name": "stdout",
     "output_type": "stream",
     "text": [
      "[1, 2, [1, 0, 100]]\n",
      "[1, 2, [1, 0, 100, 100]]\n",
      "1966655817216\n",
      "1966655847616\n",
      "1966625841344\n",
      "1966625535680\n"
     ]
    }
   ],
   "source": [
    "# Fixing mutability (Solution 2)\n",
    "import copy\n",
    "list_1 = [1,2,[1,0,100] ]\n",
    "list_2 = copy.deepcopy(list_1) \n",
    "# list_2.append(100)\n",
    "list_2[2].append(100)\n",
    "print(list_1)\n",
    "print(list_2)\n",
    "print( id(list_1) )\n",
    "print( id(list_2) )\n",
    "print( id(list_1[2]) )\n",
    "print( id(list_2[2]) )\n"
   ]
  },
  {
   "cell_type": "code",
   "execution_count": 11,
   "metadata": {},
   "outputs": [
    {
     "name": "stdout",
     "output_type": "stream",
     "text": [
      "[2, 3, 5, 'new_text', 'abs', [10, 100, 1000], 'b', 's', 156, 10, 5, 5, 5, 5]\n"
     ]
    }
   ],
   "source": [
    "print(my_list)"
   ]
  },
  {
   "cell_type": "code",
   "execution_count": 4,
   "metadata": {},
   "outputs": [
    {
     "data": {
      "text/plain": [
       "3"
      ]
     },
     "execution_count": 4,
     "metadata": {},
     "output_type": "execute_result"
    }
   ],
   "source": [
    "1+2"
   ]
  },
  {
   "cell_type": "code",
   "execution_count": 12,
   "metadata": {},
   "outputs": [],
   "source": [
    "#List tasks for homework"
   ]
  },
  {
   "cell_type": "markdown",
   "metadata": {},
   "source": [
    "## Tuple"
   ]
  },
  {
   "cell_type": "code",
   "execution_count": 22,
   "metadata": {},
   "outputs": [
    {
     "name": "stdout",
     "output_type": "stream",
     "text": [
      "(1, 1, 'a')\n",
      "ab\n",
      "lenght of the tuple: 5\n",
      "count of 1 in tuple: 2\n",
      "count of 'c' in tuple: 0\n",
      "check if 'b' is in tuple: True\n",
      "check 'b' index in tuple: 3\n"
     ]
    }
   ],
   "source": [
    "my_tuple = (1, 1, 'a', 'b', 'ab' )\n",
    "print (my_tuple[:3] )\n",
    "print (my_tuple[4])\n",
    "print (f'lenght of the tuple: {len (my_tuple)}' )\n",
    "print (f'count of 1 in tuple: {my_tuple.count(1)}' )\n",
    "print (f\"count of 'c' in tuple: {my_tuple.count('c')}\" )\n",
    "print (f\"check if 'b' is in tuple: { 'b' in my_tuple}\" )\n",
    "print (f\"check 'b' index in tuple: { my_tuple.index('b')}\" )\n",
    "\n",
    "# my_tuple[2] = 'c' # Error, can't do that\n"
   ]
  },
  {
   "cell_type": "code",
   "execution_count": 23,
   "metadata": {},
   "outputs": [
    {
     "name": "stdout",
     "output_type": "stream",
     "text": [
      "(1, 2, 3, 4, 5, 3)\n"
     ]
    }
   ],
   "source": [
    "tuple_1 = (1,2,3)\n",
    "tuple_2 = (4,5,3)\n",
    "tuple_3 = tuple_1 + tuple_2\n",
    "print(tuple_3)"
   ]
  },
  {
   "cell_type": "code",
   "execution_count": 26,
   "metadata": {},
   "outputs": [
    {
     "name": "stdout",
     "output_type": "stream",
     "text": [
      "[1, 2, 3, 4, 5, 3]\n",
      "(1, 2, 3, 10, 5, 3)\n"
     ]
    }
   ],
   "source": [
    "tmp_list= list(tuple_3)\n",
    "print(tmp_list)\n",
    "tmp_list[3]=10\n",
    "tuple_3 = tuple(tmp_list)\n",
    "print (tuple_3)\n"
   ]
  },
  {
   "cell_type": "code",
   "execution_count": 30,
   "metadata": {},
   "outputs": [
    {
     "name": "stdout",
     "output_type": "stream",
     "text": [
      "8\n",
      "8\n"
     ]
    }
   ],
   "source": [
    "my_tuple = (1, 2, ['3', 4, 5], [6, [7, (8)]])\n",
    "print(my_tuple[3][1][1])\n",
    "print(my_tuple[-1][-1][-1])"
   ]
  },
  {
   "cell_type": "code",
   "execution_count": 33,
   "metadata": {},
   "outputs": [
    {
     "name": "stdout",
     "output_type": "stream",
     "text": [
      "(11, [222, 33], 44, 55)\n",
      "[222, 33]\n",
      "(11, [222, 22], 44, 55)\n"
     ]
    }
   ],
   "source": [
    "tuple1 = (11, [222, 33], 44, 55)\n",
    "print (tuple1)\n",
    "tmp_list = list(tuple1)\n",
    "print (tmp_list[1])\n",
    "tmp_list[1][1] = 22\n",
    "tuple1 = tuple(tuple1)\n",
    "print (tuple1)\n",
    "\n",
    "\n"
   ]
  },
  {
   "cell_type": "code",
   "execution_count": 34,
   "metadata": {},
   "outputs": [
    {
     "name": "stdout",
     "output_type": "stream",
     "text": [
      "(11, [222, 33], 44, 55)\n",
      "(11, [222, 22], 44, 55)\n"
     ]
    }
   ],
   "source": [
    "tuple1 = (11, [222, 33], 44, 55)\n",
    "print (tuple1)\n",
    "tuple1[1][1] = 22\n",
    "print (tuple1)\n"
   ]
  },
  {
   "cell_type": "markdown",
   "metadata": {},
   "source": [
    "## Range"
   ]
  },
  {
   "cell_type": "code",
   "execution_count": 43,
   "metadata": {},
   "outputs": [
    {
     "name": "stdout",
     "output_type": "stream",
     "text": [
      "[0, 1, 2, 3, 4, 5, 6, 7, 8, 9]\n",
      "[5, 6, 7, 8, 9]\n",
      "[5, 7, 9, 11, 13, 15, 17, 19, 21, 23]\n",
      "[50, 45, 40, 35, 30]\n"
     ]
    }
   ],
   "source": [
    "print(list(range(10)))\n",
    "print(list(range(5,10)))\n",
    "print(list(range(5,25,2)))\n",
    "print(list(range(50,25,-5)))"
   ]
  },
  {
   "cell_type": "markdown",
   "metadata": {},
   "source": [
    "## For loops\n",
    "\n"
   ]
  },
  {
   "cell_type": "code",
   "execution_count": 45,
   "metadata": {},
   "outputs": [
    {
     "name": "stdout",
     "output_type": "stream",
     "text": [
      "City is called: Vilnius\n",
      "City is called: Kaunas\n",
      "City is called: London\n",
      "went trough all cities\n"
     ]
    }
   ],
   "source": [
    "cities = ['Vilnius', 'Kaunas','London']\n",
    "for city in cities:\n",
    "    print(f'City is called: {city}')\n",
    "print('went trough all cities')"
   ]
  },
  {
   "cell_type": "code",
   "execution_count": 46,
   "metadata": {},
   "outputs": [
    {
     "name": "stdout",
     "output_type": "stream",
     "text": [
      "index is 0\n",
      "index is 1\n",
      "index is 2\n",
      "index is 3\n",
      "index is 4\n",
      "index is 5\n",
      "index is 6\n",
      "index is 7\n",
      "index is 8\n",
      "index is 9\n"
     ]
    }
   ],
   "source": [
    "for i in range(10):\n",
    "    print(f\"index is {i}\")"
   ]
  },
  {
   "cell_type": "code",
   "execution_count": 47,
   "metadata": {},
   "outputs": [
    {
     "name": "stdout",
     "output_type": "stream",
     "text": [
      "index is 5\n",
      "index is 10\n",
      "index is 15\n",
      "index is 20\n",
      "index is 25\n",
      "index is 30\n",
      "index is 35\n",
      "index is 40\n",
      "index is 45\n"
     ]
    }
   ],
   "source": [
    "for i in range(5,50,5):\n",
    "    print(f\"index is {i}\")"
   ]
  },
  {
   "cell_type": "code",
   "execution_count": 49,
   "metadata": {},
   "outputs": [
    {
     "name": "stdout",
     "output_type": "stream",
     "text": [
      "Monday\n",
      "10\n",
      "11\n",
      "12\n",
      "13\n",
      "14\n",
      "15\n",
      "16\n",
      "17\n",
      "18\n",
      "19\n",
      "Tuesday\n",
      "10\n",
      "11\n",
      "12\n",
      "13\n",
      "14\n",
      "15\n",
      "16\n",
      "17\n",
      "18\n",
      "19\n",
      "Wednesday\n",
      "10\n",
      "11\n",
      "12\n",
      "13\n",
      "14\n",
      "15\n",
      "16\n",
      "17\n",
      "18\n",
      "19\n",
      "Thursday\n",
      "10\n",
      "11\n",
      "12\n",
      "13\n",
      "14\n",
      "15\n",
      "16\n",
      "17\n",
      "18\n",
      "19\n",
      "Friday\n",
      "10\n",
      "11\n",
      "12\n",
      "13\n",
      "14\n",
      "15\n",
      "16\n",
      "17\n",
      "18\n",
      "19\n",
      "Saturday\n",
      "10\n",
      "11\n",
      "12\n",
      "13\n",
      "14\n",
      "15\n",
      "16\n",
      "17\n",
      "18\n",
      "19\n",
      "Sunday\n",
      "10\n",
      "11\n",
      "12\n",
      "13\n",
      "14\n",
      "15\n",
      "16\n",
      "17\n",
      "18\n",
      "19\n"
     ]
    }
   ],
   "source": [
    "days = ('Monday', 'Tuesday', 'Wednesday', 'Thursday', 'Friday', 'Saturday' , 'Sunday')\n",
    "hours = [10, 11, 12, 13, 14, 15, 16, 17, 18, 19]\n",
    "for day in days:\n",
    "    print(day)\n",
    "    for hour in hours:\n",
    "        print(hour)"
   ]
  },
  {
   "cell_type": "code",
   "execution_count": null,
   "metadata": {},
   "outputs": [],
   "source": []
  }
 ],
 "metadata": {
  "interpreter": {
   "hash": "b1c97f7bc89565293a07588d9fca0428c84db0528dfcd478043cefefc018889a"
  },
  "kernelspec": {
   "display_name": "Python 3.10.0 64-bit",
   "language": "python",
   "name": "python3"
  },
  "language_info": {
   "codemirror_mode": {
    "name": "ipython",
    "version": 3
   },
   "file_extension": ".py",
   "mimetype": "text/x-python",
   "name": "python",
   "nbconvert_exporter": "python",
   "pygments_lexer": "ipython3",
   "version": "3.10.0"
  },
  "orig_nbformat": 4
 },
 "nbformat": 4,
 "nbformat_minor": 2
}
